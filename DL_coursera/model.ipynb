{
 "cells": [
  {
   "cell_type": "code",
   "execution_count": 1,
   "metadata": {
    "ExecuteTime": {
     "end_time": "2020-11-23T14:29:47.295420Z",
     "start_time": "2020-11-23T14:29:46.614367Z"
    }
   },
   "outputs": [],
   "source": [
    "import pandas as pd\n",
    "import numpy as np\n",
    "from sklearn import metrics\n",
    "#import xgboost as xgb\n",
    "import lightgbm as lgb\n"
   ]
  },
  {
   "cell_type": "code",
   "execution_count": 2,
   "metadata": {
    "ExecuteTime": {
     "end_time": "2020-11-23T14:29:47.781460Z",
     "start_time": "2020-11-23T14:29:47.550418Z"
    }
   },
   "outputs": [
    {
     "data": {
      "text/plain": [
       "<module 'matplotlib.pyplot' from 'D:\\\\ProgramData\\\\anaconda\\\\lib\\\\site-packages\\\\matplotlib\\\\pyplot.py'>"
      ]
     },
     "execution_count": 2,
     "metadata": {},
     "output_type": "execute_result"
    }
   ],
   "source": [
    "from imp import reload\n",
    "import matplotlib.pyplot as plt  \n",
    "reload(plt)"
   ]
  },
  {
   "cell_type": "markdown",
   "metadata": {},
   "source": [
    "### 读取phishing data"
   ]
  },
  {
   "cell_type": "code",
   "execution_count": 3,
   "metadata": {
    "ExecuteTime": {
     "end_time": "2020-11-23T14:29:48.630631Z",
     "start_time": "2020-11-23T14:29:48.537628Z"
    }
   },
   "outputs": [],
   "source": [
    "phishing_data = pd.read_csv('./data/all_phishing_data.csv')"
   ]
  },
  {
   "cell_type": "code",
   "execution_count": 4,
   "metadata": {
    "ExecuteTime": {
     "end_time": "2020-11-23T14:29:48.714631Z",
     "start_time": "2020-11-23T14:29:48.709630Z"
    }
   },
   "outputs": [
    {
     "data": {
      "text/plain": [
       "70898"
      ]
     },
     "execution_count": 4,
     "metadata": {},
     "output_type": "execute_result"
    }
   ],
   "source": [
    "len(phishing_data)"
   ]
  },
  {
   "cell_type": "code",
   "execution_count": 5,
   "metadata": {
    "ExecuteTime": {
     "end_time": "2020-11-23T14:29:49.015837Z",
     "start_time": "2020-11-23T14:29:49.011833Z"
    }
   },
   "outputs": [],
   "source": [
    "#phishing_data.groupby(['to'])['from'].agg(['count', 'nunique'])"
   ]
  },
  {
   "cell_type": "code",
   "execution_count": 6,
   "metadata": {
    "ExecuteTime": {
     "end_time": "2020-11-23T14:29:49.883878Z",
     "start_time": "2020-11-23T14:29:49.880876Z"
    }
   },
   "outputs": [],
   "source": [
    "#train_data.groupby(['to'])['from'].agg(['count', 'nunique']).mean()"
   ]
  },
  {
   "cell_type": "code",
   "execution_count": 7,
   "metadata": {
    "ExecuteTime": {
     "end_time": "2020-11-23T14:29:50.053880Z",
     "start_time": "2020-11-23T14:29:50.047878Z"
    }
   },
   "outputs": [],
   "source": [
    "#还未划分train test\n",
    "frac = 0.001\n",
    "def feature_matrix_to_train_matrix(features, train_label):\n",
    "    train = pd.merge(left=features, right=train_label, left_on='address', right_on='address', how='inner')\n",
    "    black_sample = train[train['label'] == 1]\n",
    "    white_sample = train[train['label'] == 0].sample(frac = frac)\n",
    "    train = pd.concat([black_sample, white_sample])\n",
    "    \n",
    "    #打乱黑白样本\n",
    "    train = train.sample(frac=1)\n",
    "    #data = pd.merge(left=features, right=train_label, left_on='from', right_on='address', how='inner')\n",
    "    #train = data[:int(len(data) * frac)]\n",
    "    #test = data[int(len(data) * frac):]\n",
    "    X_train = train.drop(['address', 'label'], axis=1)\n",
    "    #X_train = X_train.sample(frac=frac, axis=1)\n",
    "    y_train = train['label']\n",
    "    #X_test = test.drop(['from', 'to', 'address', 'label'], axis=1)\n",
    "    #y_test = test_label['label']\n",
    "    return X_train, y_train"
   ]
  },
  {
   "cell_type": "code",
   "execution_count": 8,
   "metadata": {
    "ExecuteTime": {
     "end_time": "2020-11-23T14:29:50.198877Z",
     "start_time": "2020-11-23T14:29:50.195876Z"
    }
   },
   "outputs": [],
   "source": [
    "#y_train.sum() / len(y_train)"
   ]
  },
  {
   "cell_type": "code",
   "execution_count": 9,
   "metadata": {
    "ExecuteTime": {
     "end_time": "2020-11-23T14:29:50.460877Z",
     "start_time": "2020-11-23T14:29:50.457878Z"
    }
   },
   "outputs": [],
   "source": [
    "def wei2ether(x):\n",
    "    x = list('0'.zfill(18) + x)\n",
    "    x.insert(-18, '.')\n",
    "    return np.double(''.join(x))"
   ]
  },
  {
   "cell_type": "code",
   "execution_count": 10,
   "metadata": {
    "ExecuteTime": {
     "end_time": "2020-11-23T14:30:39.542188Z",
     "start_time": "2020-11-23T14:29:50.611878Z"
    }
   },
   "outputs": [],
   "source": [
    "train_data = pd.read_csv('./data/train_data_ver2.0.csv')\n",
    "train_label = pd.read_csv('./data/train_label_ver2.0.csv')"
   ]
  },
  {
   "cell_type": "code",
   "execution_count": 11,
   "metadata": {
    "ExecuteTime": {
     "end_time": "2020-11-23T14:31:30.520960Z",
     "start_time": "2020-11-23T14:30:39.556189Z"
    }
   },
   "outputs": [],
   "source": [
    "train_data['value'] = train_data['value'].apply(wei2ether)"
   ]
  },
  {
   "cell_type": "code",
   "execution_count": 12,
   "metadata": {
    "ExecuteTime": {
     "end_time": "2020-11-23T14:31:30.632962Z",
     "start_time": "2020-11-23T14:31:30.537959Z"
    }
   },
   "outputs": [
    {
     "data": {
      "text/plain": [
       "0    9099062\n",
       "1       1220\n",
       "Name: label, dtype: int64"
      ]
     },
     "execution_count": 12,
     "metadata": {},
     "output_type": "execute_result"
    }
   ],
   "source": [
    "train_label['label'].value_counts()"
   ]
  },
  {
   "cell_type": "code",
   "execution_count": 13,
   "metadata": {
    "ExecuteTime": {
     "end_time": "2020-11-23T14:31:30.647961Z",
     "start_time": "2020-11-23T14:31:30.644961Z"
    }
   },
   "outputs": [
    {
     "data": {
      "text/plain": [
       "30956458"
      ]
     },
     "execution_count": 13,
     "metadata": {},
     "output_type": "execute_result"
    }
   ],
   "source": [
    "len(train_data)"
   ]
  },
  {
   "cell_type": "markdown",
   "metadata": {},
   "source": [
    "## 观察数据"
   ]
  },
  {
   "cell_type": "code",
   "execution_count": 14,
   "metadata": {
    "ExecuteTime": {
     "end_time": "2020-11-23T14:31:38.849194Z",
     "start_time": "2020-11-23T14:31:30.663959Z"
    }
   },
   "outputs": [
    {
     "data": {
      "text/plain": [
       "8639415"
      ]
     },
     "execution_count": 14,
     "metadata": {},
     "output_type": "execute_result"
    }
   ],
   "source": [
    "len(set(train_data['to']))"
   ]
  },
  {
   "cell_type": "code",
   "execution_count": 15,
   "metadata": {
    "ExecuteTime": {
     "end_time": "2020-11-23T14:31:38.871197Z",
     "start_time": "2020-11-23T14:31:38.864199Z"
    }
   },
   "outputs": [],
   "source": [
    "def get_trival_feature(train_data):\n",
    "    #feature between from and block:\n",
    "    from_block_feature = train_data.groupby(['from'])['blockNumber'].agg([np.ptp, 'std']).add_prefix('from_block_')\n",
    "    from_value_feature = train_data.groupby(['from'])['value'].agg(['sum', 'mean', 'std', 'max', 'min']).add_prefix('from_value_')\n",
    "    from_feature = pd.concat([from_block_feature, from_value_feature], axis = 1)\n",
    "    #from_feature = from_feature.merge(left_on='from', right=train_address, right_on='address', how='right')\n",
    "    to_block_feature = train_data.groupby(['to'])['blockNumber'].agg([np.ptp, 'std']).add_prefix('to_block_')\n",
    "    to_value_feature = train_data.groupby(['to'])['value'].agg(['sum', 'mean', 'std', 'max', 'min']).add_prefix('to_value_')\n",
    "    to_feature = pd.concat([to_block_feature, to_value_feature], axis = 1)\n",
    "    from_feature.reset_index(inplace=True)\n",
    "    to_feature.reset_index(inplace=True)\n",
    "    #to_feature = to_feature.merge(left_on='to', right=train_address, right_on='address', how='right')\n",
    "    trival_feature = pd.merge(left=from_feature, right=to_feature, left_on='from', right_on='to', how='inner')\n",
    "    trival_feature['address'] = trival_feature['from']\n",
    "    trival_feature.drop(['from', 'to'], axis = 1, inplace=True)\n",
    "    return trival_feature"
   ]
  },
  {
   "cell_type": "code",
   "execution_count": 16,
   "metadata": {
    "ExecuteTime": {
     "end_time": "2020-11-23T14:31:38.887198Z",
     "start_time": "2020-11-23T14:31:38.885196Z"
    }
   },
   "outputs": [],
   "source": [
    "train_address =train_label['address']"
   ]
  },
  {
   "cell_type": "code",
   "execution_count": 17,
   "metadata": {
    "ExecuteTime": {
     "end_time": "2020-11-23T14:31:38.912196Z",
     "start_time": "2020-11-23T14:31:38.901197Z"
    }
   },
   "outputs": [
    {
     "data": {
      "text/html": [
       "<div>\n",
       "<style scoped>\n",
       "    .dataframe tbody tr th:only-of-type {\n",
       "        vertical-align: middle;\n",
       "    }\n",
       "\n",
       "    .dataframe tbody tr th {\n",
       "        vertical-align: top;\n",
       "    }\n",
       "\n",
       "    .dataframe thead th {\n",
       "        text-align: right;\n",
       "    }\n",
       "</style>\n",
       "<table border=\"1\" class=\"dataframe\">\n",
       "  <thead>\n",
       "    <tr style=\"text-align: right;\">\n",
       "      <th></th>\n",
       "      <th>blockNumber</th>\n",
       "      <th>from</th>\n",
       "      <th>to</th>\n",
       "      <th>value</th>\n",
       "    </tr>\n",
       "  </thead>\n",
       "  <tbody>\n",
       "    <tr>\n",
       "      <th>0</th>\n",
       "      <td>1917029</td>\n",
       "      <td>0xcf5cdd85813129271c907348325c013847674fc6</td>\n",
       "      <td>0x60aa80fe41b43c180870a137c7a87334e5c3cb5d</td>\n",
       "      <td>2.100000e-01</td>\n",
       "    </tr>\n",
       "    <tr>\n",
       "      <th>1</th>\n",
       "      <td>1917031</td>\n",
       "      <td>0x63656b599cb67a18b5be74f7dcd269137a6efdcb</td>\n",
       "      <td>0x7180eb39a6264938fdb3effd7341c4727c382153</td>\n",
       "      <td>9.995800e-01</td>\n",
       "    </tr>\n",
       "    <tr>\n",
       "      <th>2</th>\n",
       "      <td>1917031</td>\n",
       "      <td>0x63656b599cb67a18b5be74f7dcd269137a6efdcb</td>\n",
       "      <td>0x7180eb39a6264938fdb3effd7341c4727c382153</td>\n",
       "      <td>9.995800e-01</td>\n",
       "    </tr>\n",
       "    <tr>\n",
       "      <th>3</th>\n",
       "      <td>1917032</td>\n",
       "      <td>0xea321e7e27877e4e623a74b1262f184f404a8319</td>\n",
       "      <td>0x1e639f11abdd00fca7779aab75c3c3ed10c0d1a0</td>\n",
       "      <td>8.900000e-01</td>\n",
       "    </tr>\n",
       "    <tr>\n",
       "      <th>4</th>\n",
       "      <td>1917032</td>\n",
       "      <td>0x60aa80fe41b43c180870a137c7a87334e5c3cb5d</td>\n",
       "      <td>0xcf5cdd85813129271c907348325c013847674fc6</td>\n",
       "      <td>1.000000e-18</td>\n",
       "    </tr>\n",
       "    <tr>\n",
       "      <th>...</th>\n",
       "      <td>...</td>\n",
       "      <td>...</td>\n",
       "      <td>...</td>\n",
       "      <td>...</td>\n",
       "    </tr>\n",
       "    <tr>\n",
       "      <th>30956453</th>\n",
       "      <td>7006697</td>\n",
       "      <td>0xcdfaa6fd2461d7129a7fdc193c9d97504ff3b6f6</td>\n",
       "      <td>0x3b00a158410514fc4bbd40bf51f6fd0d140fb45d</td>\n",
       "      <td>1.800000e-01</td>\n",
       "    </tr>\n",
       "    <tr>\n",
       "      <th>30956454</th>\n",
       "      <td>7006697</td>\n",
       "      <td>0x20e6f8babbfdf132d049814698ec2281ae4b3da3</td>\n",
       "      <td>0xebe68414ab9a7d9124b685c9bb6f70d553a01664</td>\n",
       "      <td>1.789200e-03</td>\n",
       "    </tr>\n",
       "    <tr>\n",
       "      <th>30956455</th>\n",
       "      <td>7006699</td>\n",
       "      <td>0x29bc381c5a88d0fea8f60818725acceee9b981e7</td>\n",
       "      <td>0x968c6686b9d4f8f2aed5a6c5ea629f67cfc9ac2e</td>\n",
       "      <td>1.400000e+01</td>\n",
       "    </tr>\n",
       "    <tr>\n",
       "      <th>30956456</th>\n",
       "      <td>7006699</td>\n",
       "      <td>0xa2d3d545de4235044fff5116a4f8a043aaf13821</td>\n",
       "      <td>0x25bddd8c28d657f190d8e32cda1e29207718a7da</td>\n",
       "      <td>2.910000e+00</td>\n",
       "    </tr>\n",
       "    <tr>\n",
       "      <th>30956457</th>\n",
       "      <td>7006700</td>\n",
       "      <td>0x37eaf9a198795424a14949b688da76d17aabd45d</td>\n",
       "      <td>0x431aaece8483c4fb50cb5af3e717f82fd8a9903f</td>\n",
       "      <td>1.000000e-02</td>\n",
       "    </tr>\n",
       "  </tbody>\n",
       "</table>\n",
       "<p>30956458 rows × 4 columns</p>\n",
       "</div>"
      ],
      "text/plain": [
       "          blockNumber                                        from  \\\n",
       "0             1917029  0xcf5cdd85813129271c907348325c013847674fc6   \n",
       "1             1917031  0x63656b599cb67a18b5be74f7dcd269137a6efdcb   \n",
       "2             1917031  0x63656b599cb67a18b5be74f7dcd269137a6efdcb   \n",
       "3             1917032  0xea321e7e27877e4e623a74b1262f184f404a8319   \n",
       "4             1917032  0x60aa80fe41b43c180870a137c7a87334e5c3cb5d   \n",
       "...               ...                                         ...   \n",
       "30956453      7006697  0xcdfaa6fd2461d7129a7fdc193c9d97504ff3b6f6   \n",
       "30956454      7006697  0x20e6f8babbfdf132d049814698ec2281ae4b3da3   \n",
       "30956455      7006699  0x29bc381c5a88d0fea8f60818725acceee9b981e7   \n",
       "30956456      7006699  0xa2d3d545de4235044fff5116a4f8a043aaf13821   \n",
       "30956457      7006700  0x37eaf9a198795424a14949b688da76d17aabd45d   \n",
       "\n",
       "                                                  to         value  \n",
       "0         0x60aa80fe41b43c180870a137c7a87334e5c3cb5d  2.100000e-01  \n",
       "1         0x7180eb39a6264938fdb3effd7341c4727c382153  9.995800e-01  \n",
       "2         0x7180eb39a6264938fdb3effd7341c4727c382153  9.995800e-01  \n",
       "3         0x1e639f11abdd00fca7779aab75c3c3ed10c0d1a0  8.900000e-01  \n",
       "4         0xcf5cdd85813129271c907348325c013847674fc6  1.000000e-18  \n",
       "...                                              ...           ...  \n",
       "30956453  0x3b00a158410514fc4bbd40bf51f6fd0d140fb45d  1.800000e-01  \n",
       "30956454  0xebe68414ab9a7d9124b685c9bb6f70d553a01664  1.789200e-03  \n",
       "30956455  0x968c6686b9d4f8f2aed5a6c5ea629f67cfc9ac2e  1.400000e+01  \n",
       "30956456  0x25bddd8c28d657f190d8e32cda1e29207718a7da  2.910000e+00  \n",
       "30956457  0x431aaece8483c4fb50cb5af3e717f82fd8a9903f  1.000000e-02  \n",
       "\n",
       "[30956458 rows x 4 columns]"
      ]
     },
     "execution_count": 17,
     "metadata": {},
     "output_type": "execute_result"
    }
   ],
   "source": [
    "#pre sampled\n",
    "train_data"
   ]
  },
  {
   "cell_type": "code",
   "execution_count": 18,
   "metadata": {
    "ExecuteTime": {
     "end_time": "2020-11-23T14:37:17.069743Z",
     "start_time": "2020-11-23T14:31:38.927197Z"
    }
   },
   "outputs": [],
   "source": [
    "#feature between from and block:\n",
    "from_block_feature = train_data.groupby(['from'])['blockNumber'].agg([np.ptp, 'std']).add_prefix('from_block_')"
   ]
  },
  {
   "cell_type": "code",
   "execution_count": 19,
   "metadata": {
    "ExecuteTime": {
     "end_time": "2020-11-23T14:38:11.909672Z",
     "start_time": "2020-11-23T14:37:17.088743Z"
    }
   },
   "outputs": [],
   "source": [
    "from_value_feature = train_data.groupby(['from'])['value'].agg(['sum', 'mean', 'std', 'max', 'min']).add_prefix('from_value_')"
   ]
  },
  {
   "cell_type": "code",
   "execution_count": 20,
   "metadata": {
    "ExecuteTime": {
     "end_time": "2020-11-23T14:38:15.014727Z",
     "start_time": "2020-11-23T14:38:11.932673Z"
    }
   },
   "outputs": [],
   "source": [
    "from_feature = pd.concat([from_block_feature, from_value_feature], axis = 1)\n",
    "#from_feature = from_feature.merge(left_on='from', right=train_address, right_on='address', how='right')\n",
    "#from_feature.fillna(0, inplace=True)"
   ]
  },
  {
   "cell_type": "code",
   "execution_count": 21,
   "metadata": {
    "ExecuteTime": {
     "end_time": "2020-11-23T14:45:13.373229Z",
     "start_time": "2020-11-23T14:38:15.040733Z"
    }
   },
   "outputs": [],
   "source": [
    "to_block_feature = train_data.groupby(['to'])['blockNumber'].agg([np.ptp, 'std']).add_prefix('to_block_')\n",
    "to_value_feature = train_data.groupby(['to'])['value'].agg(['sum', 'mean', 'std', 'max', 'min']).add_prefix('to_value_')"
   ]
  },
  {
   "cell_type": "code",
   "execution_count": 22,
   "metadata": {
    "ExecuteTime": {
     "end_time": "2020-11-23T14:45:16.838524Z",
     "start_time": "2020-11-23T14:45:13.404225Z"
    }
   },
   "outputs": [],
   "source": [
    "to_feature = pd.concat([to_block_feature, to_value_feature], axis = 1)\n",
    "#to_feature = to_feature.merge(left_on='to', right=train_address, right_on='address', how='right')"
   ]
  },
  {
   "cell_type": "code",
   "execution_count": 23,
   "metadata": {
    "ExecuteTime": {
     "end_time": "2020-11-23T14:45:17.360157Z",
     "start_time": "2020-11-23T14:45:16.871523Z"
    }
   },
   "outputs": [],
   "source": [
    "from_feature.reset_index(inplace=True)\n",
    "to_feature.reset_index(inplace=True)"
   ]
  },
  {
   "cell_type": "code",
   "execution_count": 24,
   "metadata": {
    "ExecuteTime": {
     "end_time": "2020-11-23T14:45:37.187267Z",
     "start_time": "2020-11-23T14:45:17.392157Z"
    }
   },
   "outputs": [],
   "source": [
    "#merge方式\n",
    "\n",
    "trival_feature = pd.merge(left=from_feature, right=to_feature, left_on='from', right_on='to', how='inner')"
   ]
  },
  {
   "cell_type": "code",
   "execution_count": 25,
   "metadata": {
    "ExecuteTime": {
     "end_time": "2020-11-23T14:45:37.249266Z",
     "start_time": "2020-11-23T14:45:37.229264Z"
    }
   },
   "outputs": [
    {
     "data": {
      "text/html": [
       "<div>\n",
       "<style scoped>\n",
       "    .dataframe tbody tr th:only-of-type {\n",
       "        vertical-align: middle;\n",
       "    }\n",
       "\n",
       "    .dataframe tbody tr th {\n",
       "        vertical-align: top;\n",
       "    }\n",
       "\n",
       "    .dataframe thead th {\n",
       "        text-align: right;\n",
       "    }\n",
       "</style>\n",
       "<table border=\"1\" class=\"dataframe\">\n",
       "  <thead>\n",
       "    <tr style=\"text-align: right;\">\n",
       "      <th></th>\n",
       "      <th>from</th>\n",
       "      <th>from_block_ptp</th>\n",
       "      <th>from_block_std</th>\n",
       "      <th>from_value_sum</th>\n",
       "      <th>from_value_mean</th>\n",
       "      <th>from_value_std</th>\n",
       "      <th>from_value_max</th>\n",
       "      <th>from_value_min</th>\n",
       "      <th>to</th>\n",
       "      <th>to_block_ptp</th>\n",
       "      <th>to_block_std</th>\n",
       "      <th>to_value_sum</th>\n",
       "      <th>to_value_mean</th>\n",
       "      <th>to_value_std</th>\n",
       "      <th>to_value_max</th>\n",
       "      <th>to_value_min</th>\n",
       "    </tr>\n",
       "  </thead>\n",
       "  <tbody>\n",
       "    <tr>\n",
       "      <th>0</th>\n",
       "      <td>0x0000000048246c5f37df029bef0cefd9ee36f301</td>\n",
       "      <td>35020</td>\n",
       "      <td>16237.896054</td>\n",
       "      <td>1.906650e-01</td>\n",
       "      <td>4.766626e-02</td>\n",
       "      <td>0.055247</td>\n",
       "      <td>1.282759e-01</td>\n",
       "      <td>9.346600e-03</td>\n",
       "      <td>0x0000000048246c5f37df029bef0cefd9ee36f301</td>\n",
       "      <td>93379</td>\n",
       "      <td>38911.802283</td>\n",
       "      <td>0.079356</td>\n",
       "      <td>0.019839</td>\n",
       "      <td>0.008781</td>\n",
       "      <td>0.029139</td>\n",
       "      <td>0.010000</td>\n",
       "    </tr>\n",
       "    <tr>\n",
       "      <th>1</th>\n",
       "      <td>0x000000004fdd41501a42651743c55f7e41ec85e4</td>\n",
       "      <td>322138</td>\n",
       "      <td>144046.283394</td>\n",
       "      <td>4.281103e-02</td>\n",
       "      <td>1.070276e-02</td>\n",
       "      <td>0.012553</td>\n",
       "      <td>2.620300e-02</td>\n",
       "      <td>1.000000e-05</td>\n",
       "      <td>0x000000004fdd41501a42651743c55f7e41ec85e4</td>\n",
       "      <td>0</td>\n",
       "      <td>NaN</td>\n",
       "      <td>0.054110</td>\n",
       "      <td>0.054110</td>\n",
       "      <td>NaN</td>\n",
       "      <td>0.054110</td>\n",
       "      <td>0.054110</td>\n",
       "    </tr>\n",
       "    <tr>\n",
       "      <th>2</th>\n",
       "      <td>0x00000000666bc8d3212838a58e92c18e6cfe9ef1</td>\n",
       "      <td>0</td>\n",
       "      <td>NaN</td>\n",
       "      <td>8.888889e-11</td>\n",
       "      <td>8.888889e-11</td>\n",
       "      <td>NaN</td>\n",
       "      <td>8.888889e-11</td>\n",
       "      <td>8.888889e-11</td>\n",
       "      <td>0x00000000666bc8d3212838a58e92c18e6cfe9ef1</td>\n",
       "      <td>1168154</td>\n",
       "      <td>826009.614870</td>\n",
       "      <td>0.070910</td>\n",
       "      <td>0.035455</td>\n",
       "      <td>0.050127</td>\n",
       "      <td>0.070900</td>\n",
       "      <td>0.000010</td>\n",
       "    </tr>\n",
       "    <tr>\n",
       "      <th>3</th>\n",
       "      <td>0x00000000ad4eb06bc550dc45ce28888c0626839a</td>\n",
       "      <td>80</td>\n",
       "      <td>22.360860</td>\n",
       "      <td>7.324813e+01</td>\n",
       "      <td>1.331784e+00</td>\n",
       "      <td>1.810276</td>\n",
       "      <td>9.183630e+00</td>\n",
       "      <td>1.006096e-01</td>\n",
       "      <td>0x00000000ad4eb06bc550dc45ce28888c0626839a</td>\n",
       "      <td>0</td>\n",
       "      <td>NaN</td>\n",
       "      <td>103.500000</td>\n",
       "      <td>103.500000</td>\n",
       "      <td>NaN</td>\n",
       "      <td>103.500000</td>\n",
       "      <td>103.500000</td>\n",
       "    </tr>\n",
       "    <tr>\n",
       "      <th>4</th>\n",
       "      <td>0x00000000b9d54fb8ab1a28ebd2ccbfe3247e517f</td>\n",
       "      <td>0</td>\n",
       "      <td>NaN</td>\n",
       "      <td>2.669227e+00</td>\n",
       "      <td>2.669227e+00</td>\n",
       "      <td>NaN</td>\n",
       "      <td>2.669227e+00</td>\n",
       "      <td>2.669227e+00</td>\n",
       "      <td>0x00000000b9d54fb8ab1a28ebd2ccbfe3247e517f</td>\n",
       "      <td>270001</td>\n",
       "      <td>145332.203372</td>\n",
       "      <td>43.790000</td>\n",
       "      <td>14.596667</td>\n",
       "      <td>6.829863</td>\n",
       "      <td>19.900000</td>\n",
       "      <td>6.890000</td>\n",
       "    </tr>\n",
       "    <tr>\n",
       "      <th>...</th>\n",
       "      <td>...</td>\n",
       "      <td>...</td>\n",
       "      <td>...</td>\n",
       "      <td>...</td>\n",
       "      <td>...</td>\n",
       "      <td>...</td>\n",
       "      <td>...</td>\n",
       "      <td>...</td>\n",
       "      <td>...</td>\n",
       "      <td>...</td>\n",
       "      <td>...</td>\n",
       "      <td>...</td>\n",
       "      <td>...</td>\n",
       "      <td>...</td>\n",
       "      <td>...</td>\n",
       "      <td>...</td>\n",
       "    </tr>\n",
       "    <tr>\n",
       "      <th>7587228</th>\n",
       "      <td>0xfffffd2b4cbf69d99a7997bc3543191c79acdb18</td>\n",
       "      <td>2636291</td>\n",
       "      <td>418260.353952</td>\n",
       "      <td>5.332489e+03</td>\n",
       "      <td>2.866930e+01</td>\n",
       "      <td>144.015450</td>\n",
       "      <td>1.597000e+03</td>\n",
       "      <td>1.000000e-02</td>\n",
       "      <td>0xfffffd2b4cbf69d99a7997bc3543191c79acdb18</td>\n",
       "      <td>2055331</td>\n",
       "      <td>525883.200147</td>\n",
       "      <td>3136.556590</td>\n",
       "      <td>13.696754</td>\n",
       "      <td>35.252536</td>\n",
       "      <td>380.000000</td>\n",
       "      <td>0.001000</td>\n",
       "    </tr>\n",
       "    <tr>\n",
       "      <th>7587229</th>\n",
       "      <td>0xfffffe16439027b253808b7a55c787b67c22a75d</td>\n",
       "      <td>15</td>\n",
       "      <td>8.386497</td>\n",
       "      <td>1.009981e+02</td>\n",
       "      <td>3.366604e+01</td>\n",
       "      <td>48.429568</td>\n",
       "      <td>8.922260e+01</td>\n",
       "      <td>3.629000e-01</td>\n",
       "      <td>0xfffffe16439027b253808b7a55c787b67c22a75d</td>\n",
       "      <td>0</td>\n",
       "      <td>0.000000</td>\n",
       "      <td>101.000000</td>\n",
       "      <td>50.500000</td>\n",
       "      <td>54.158249</td>\n",
       "      <td>88.795665</td>\n",
       "      <td>12.204335</td>\n",
       "    </tr>\n",
       "    <tr>\n",
       "      <th>7587230</th>\n",
       "      <td>0xffffffa5473301b0489d7e1d1e7786b4b79e2cc0</td>\n",
       "      <td>117025</td>\n",
       "      <td>40840.724921</td>\n",
       "      <td>1.328789e+00</td>\n",
       "      <td>1.476433e-01</td>\n",
       "      <td>0.211307</td>\n",
       "      <td>5.500000e-01</td>\n",
       "      <td>3.000000e-03</td>\n",
       "      <td>0xffffffa5473301b0489d7e1d1e7786b4b79e2cc0</td>\n",
       "      <td>110058</td>\n",
       "      <td>39841.898372</td>\n",
       "      <td>0.165020</td>\n",
       "      <td>0.023574</td>\n",
       "      <td>0.015793</td>\n",
       "      <td>0.050000</td>\n",
       "      <td>0.004469</td>\n",
       "    </tr>\n",
       "    <tr>\n",
       "      <th>7587231</th>\n",
       "      <td>0xfffffff1ac8dcf49f4afd3f90995120e568740f9</td>\n",
       "      <td>696510</td>\n",
       "      <td>189335.232954</td>\n",
       "      <td>4.959864e+02</td>\n",
       "      <td>3.815280e+01</td>\n",
       "      <td>90.528909</td>\n",
       "      <td>2.500000e+02</td>\n",
       "      <td>9.864391e-01</td>\n",
       "      <td>0xfffffff1ac8dcf49f4afd3f90995120e568740f9</td>\n",
       "      <td>527774</td>\n",
       "      <td>28389.016979</td>\n",
       "      <td>1524.310398</td>\n",
       "      <td>3.928635</td>\n",
       "      <td>13.851119</td>\n",
       "      <td>200.000000</td>\n",
       "      <td>0.001000</td>\n",
       "    </tr>\n",
       "    <tr>\n",
       "      <th>7587232</th>\n",
       "      <td>0xfffffff92dc97cc9fe9cdeb544319a2eff9ebcc6</td>\n",
       "      <td>3</td>\n",
       "      <td>2.121320</td>\n",
       "      <td>1.008919e+02</td>\n",
       "      <td>5.044595e+01</td>\n",
       "      <td>12.497425</td>\n",
       "      <td>5.928297e+01</td>\n",
       "      <td>4.160894e+01</td>\n",
       "      <td>0xfffffff92dc97cc9fe9cdeb544319a2eff9ebcc6</td>\n",
       "      <td>7</td>\n",
       "      <td>4.949747</td>\n",
       "      <td>101.000000</td>\n",
       "      <td>50.500000</td>\n",
       "      <td>46.319401</td>\n",
       "      <td>83.252763</td>\n",
       "      <td>17.747237</td>\n",
       "    </tr>\n",
       "  </tbody>\n",
       "</table>\n",
       "<p>7587233 rows × 16 columns</p>\n",
       "</div>"
      ],
      "text/plain": [
       "                                               from  from_block_ptp  \\\n",
       "0        0x0000000048246c5f37df029bef0cefd9ee36f301           35020   \n",
       "1        0x000000004fdd41501a42651743c55f7e41ec85e4          322138   \n",
       "2        0x00000000666bc8d3212838a58e92c18e6cfe9ef1               0   \n",
       "3        0x00000000ad4eb06bc550dc45ce28888c0626839a              80   \n",
       "4        0x00000000b9d54fb8ab1a28ebd2ccbfe3247e517f               0   \n",
       "...                                             ...             ...   \n",
       "7587228  0xfffffd2b4cbf69d99a7997bc3543191c79acdb18         2636291   \n",
       "7587229  0xfffffe16439027b253808b7a55c787b67c22a75d              15   \n",
       "7587230  0xffffffa5473301b0489d7e1d1e7786b4b79e2cc0          117025   \n",
       "7587231  0xfffffff1ac8dcf49f4afd3f90995120e568740f9          696510   \n",
       "7587232  0xfffffff92dc97cc9fe9cdeb544319a2eff9ebcc6               3   \n",
       "\n",
       "         from_block_std  from_value_sum  from_value_mean  from_value_std  \\\n",
       "0          16237.896054    1.906650e-01     4.766626e-02        0.055247   \n",
       "1         144046.283394    4.281103e-02     1.070276e-02        0.012553   \n",
       "2                   NaN    8.888889e-11     8.888889e-11             NaN   \n",
       "3             22.360860    7.324813e+01     1.331784e+00        1.810276   \n",
       "4                   NaN    2.669227e+00     2.669227e+00             NaN   \n",
       "...                 ...             ...              ...             ...   \n",
       "7587228   418260.353952    5.332489e+03     2.866930e+01      144.015450   \n",
       "7587229        8.386497    1.009981e+02     3.366604e+01       48.429568   \n",
       "7587230    40840.724921    1.328789e+00     1.476433e-01        0.211307   \n",
       "7587231   189335.232954    4.959864e+02     3.815280e+01       90.528909   \n",
       "7587232        2.121320    1.008919e+02     5.044595e+01       12.497425   \n",
       "\n",
       "         from_value_max  from_value_min  \\\n",
       "0          1.282759e-01    9.346600e-03   \n",
       "1          2.620300e-02    1.000000e-05   \n",
       "2          8.888889e-11    8.888889e-11   \n",
       "3          9.183630e+00    1.006096e-01   \n",
       "4          2.669227e+00    2.669227e+00   \n",
       "...                 ...             ...   \n",
       "7587228    1.597000e+03    1.000000e-02   \n",
       "7587229    8.922260e+01    3.629000e-01   \n",
       "7587230    5.500000e-01    3.000000e-03   \n",
       "7587231    2.500000e+02    9.864391e-01   \n",
       "7587232    5.928297e+01    4.160894e+01   \n",
       "\n",
       "                                                 to  to_block_ptp  \\\n",
       "0        0x0000000048246c5f37df029bef0cefd9ee36f301         93379   \n",
       "1        0x000000004fdd41501a42651743c55f7e41ec85e4             0   \n",
       "2        0x00000000666bc8d3212838a58e92c18e6cfe9ef1       1168154   \n",
       "3        0x00000000ad4eb06bc550dc45ce28888c0626839a             0   \n",
       "4        0x00000000b9d54fb8ab1a28ebd2ccbfe3247e517f        270001   \n",
       "...                                             ...           ...   \n",
       "7587228  0xfffffd2b4cbf69d99a7997bc3543191c79acdb18       2055331   \n",
       "7587229  0xfffffe16439027b253808b7a55c787b67c22a75d             0   \n",
       "7587230  0xffffffa5473301b0489d7e1d1e7786b4b79e2cc0        110058   \n",
       "7587231  0xfffffff1ac8dcf49f4afd3f90995120e568740f9        527774   \n",
       "7587232  0xfffffff92dc97cc9fe9cdeb544319a2eff9ebcc6             7   \n",
       "\n",
       "          to_block_std  to_value_sum  to_value_mean  to_value_std  \\\n",
       "0         38911.802283      0.079356       0.019839      0.008781   \n",
       "1                  NaN      0.054110       0.054110           NaN   \n",
       "2        826009.614870      0.070910       0.035455      0.050127   \n",
       "3                  NaN    103.500000     103.500000           NaN   \n",
       "4        145332.203372     43.790000      14.596667      6.829863   \n",
       "...                ...           ...            ...           ...   \n",
       "7587228  525883.200147   3136.556590      13.696754     35.252536   \n",
       "7587229       0.000000    101.000000      50.500000     54.158249   \n",
       "7587230   39841.898372      0.165020       0.023574      0.015793   \n",
       "7587231   28389.016979   1524.310398       3.928635     13.851119   \n",
       "7587232       4.949747    101.000000      50.500000     46.319401   \n",
       "\n",
       "         to_value_max  to_value_min  \n",
       "0            0.029139      0.010000  \n",
       "1            0.054110      0.054110  \n",
       "2            0.070900      0.000010  \n",
       "3          103.500000    103.500000  \n",
       "4           19.900000      6.890000  \n",
       "...               ...           ...  \n",
       "7587228    380.000000      0.001000  \n",
       "7587229     88.795665     12.204335  \n",
       "7587230      0.050000      0.004469  \n",
       "7587231    200.000000      0.001000  \n",
       "7587232     83.252763     17.747237  \n",
       "\n",
       "[7587233 rows x 16 columns]"
      ]
     },
     "execution_count": 25,
     "metadata": {},
     "output_type": "execute_result"
    }
   ],
   "source": [
    "trival_feature"
   ]
  },
  {
   "cell_type": "code",
   "execution_count": 26,
   "metadata": {
    "ExecuteTime": {
     "end_time": "2020-11-23T14:45:41.718265Z",
     "start_time": "2020-11-23T14:45:37.289267Z"
    }
   },
   "outputs": [],
   "source": [
    "trival_feature['address'] = trival_feature['from']\n",
    "trival_feature.drop(['from', 'to'], axis = 1, inplace=True)"
   ]
  },
  {
   "cell_type": "markdown",
   "metadata": {},
   "source": [
    "## 构建特征"
   ]
  },
  {
   "cell_type": "markdown",
   "metadata": {},
   "source": [
    "### 网络特征——from, to"
   ]
  },
  {
   "cell_type": "code",
   "execution_count": 27,
   "metadata": {
    "ExecuteTime": {
     "end_time": "2020-11-23T14:45:41.767266Z",
     "start_time": "2020-11-23T14:45:41.759266Z"
    }
   },
   "outputs": [],
   "source": [
    "def get_network_feature(train_data):\n",
    "    from_to_one_degree_feature = train_data.groupby(['from'])['to'].agg(['count', 'nunique']).add_prefix('from_to_').reset_index()\n",
    "    from_to_one_degree_feature['from_to_count_nunique_ratio'] = from_to_one_degree_feature['from_to_count'] / from_to_one_degree_feature['from_to_nunique']\n",
    "    from_to_one_degree_feature['from_to_count_nunique_equal'] = (from_to_one_degree_feature['from_to_count'] == from_to_one_degree_feature['from_to_nunique']).astype(int)\n",
    "    from_to_two_degree_feature = train_data.groupby(['from', 'to'])['value'].agg(['sum', 'mean', 'max', 'min']).groupby(['from']).agg(\n",
    "        ['sum', 'std', 'median', 'max', 'min']).add_prefix('from_to_')\n",
    "    from_to_two_degree_feature = pd.DataFrame(from_to_two_degree_feature.to_records(), index=None)\n",
    "    from_to_degree_feature =  from_to_two_degree_feature.merge(right=from_to_one_degree_feature, left_on='from', right_on='from', how='inner')\n",
    "                                                \n",
    "        #to,from 特征以相同方式提取\n",
    "    to_from_one_degree_feature = train_data.groupby(['to'])['from'].agg(['count', 'nunique']).add_prefix('to_from_').reset_index()\n",
    "    to_from_one_degree_feature['to_from_count_nunique_ratio'] = to_from_one_degree_feature['to_from_count'] / to_from_one_degree_feature['to_from_nunique']\n",
    "    to_from_one_degree_feature['to_from_count_nunique_equal'] = (to_from_one_degree_feature['to_from_count'] == to_from_one_degree_feature['to_from_nunique']).astype(int)\n",
    "    \n",
    "    to_from_two_degree_feature = train_data.groupby(['to', 'from'])['value'].agg(['sum', 'mean', 'max', 'min']).groupby(['to']).agg(\n",
    "    ['sum', 'std', 'median', 'max', 'min']).add_prefix('to_from_')\n",
    "    to_from_two_degree_feature = pd.DataFrame(to_from_two_degree_feature.to_records(), index=None)\n",
    "    to_from_degree_feature =  to_from_two_degree_feature.merge(right=to_from_one_degree_feature, left_on='to', right_on='to', how='inner')\n",
    "    return from_to_degree_feature, to_from_degree_feature"
   ]
  },
  {
   "cell_type": "code",
   "execution_count": 28,
   "metadata": {
    "ExecuteTime": {
     "end_time": "2020-11-23T14:47:20.980251Z",
     "start_time": "2020-11-23T14:45:41.805264Z"
    }
   },
   "outputs": [],
   "source": [
    "#base: 每个from 节点对应的 to 节点的（不同）个数 (one_degree)\n",
    "from_to_one_degree_feature = train_data.groupby(['from'])['to'].agg(['count', 'nunique']).add_prefix('from_to_').reset_index()\n",
    "from_to_one_degree_feature['from_to_count_nunique_ratio'] = from_to_one_degree_feature['from_to_count'] / from_to_one_degree_feature['from_to_nunique']\n",
    "from_to_one_degree_feature['from_to_count_nunique_equal'] = (from_to_one_degree_feature['from_to_count'] == from_to_one_degree_feature['from_to_nunique']).astype(int)\n",
    "# 还可做： count/ nunique, count == nunique?"
   ]
  },
  {
   "cell_type": "code",
   "execution_count": 29,
   "metadata": {
    "ExecuteTime": {
     "end_time": "2020-11-23T14:47:21.024250Z",
     "start_time": "2020-11-23T14:47:21.022250Z"
    }
   },
   "outputs": [],
   "source": [
    "#统计from 节点相连接的 to 节点的信息情况"
   ]
  },
  {
   "cell_type": "code",
   "execution_count": 30,
   "metadata": {
    "ExecuteTime": {
     "end_time": "2020-11-23T14:50:10.376947Z",
     "start_time": "2020-11-23T14:47:21.066249Z"
    }
   },
   "outputs": [],
   "source": [
    "from_to_two_degree_feature = train_data.groupby(['from', 'to'])['value'].agg(['sum', 'mean', 'max', 'min']).groupby(['from']).agg(\n",
    "    ['sum', 'std', 'median', 'max', 'min']).add_prefix('from_to_')\n",
    "from_to_two_degree_feature = pd.DataFrame(from_to_two_degree_feature.to_records(), index=None)"
   ]
  },
  {
   "cell_type": "code",
   "execution_count": 31,
   "metadata": {
    "ExecuteTime": {
     "end_time": "2020-11-23T14:50:27.990624Z",
     "start_time": "2020-11-23T14:50:12.642129Z"
    }
   },
   "outputs": [],
   "source": [
    "from_to_degree_feature =  from_to_two_degree_feature.merge(right=from_to_one_degree_feature, left_on='from', right_on='from', how='inner')"
   ]
  },
  {
   "cell_type": "code",
   "execution_count": null,
   "metadata": {},
   "outputs": [],
   "source": []
  },
  {
   "cell_type": "code",
   "execution_count": 32,
   "metadata": {
    "ExecuteTime": {
     "end_time": "2020-11-23T14:52:16.265827Z",
     "start_time": "2020-11-23T14:50:32.902147Z"
    }
   },
   "outputs": [],
   "source": [
    "#to,from 特征以相同方式提取\n",
    "to_from_one_degree_feature = train_data.groupby(['to'])['from'].agg(['count', 'nunique']).add_prefix('to_from_').reset_index()\n",
    "to_from_one_degree_feature['to_from_count_nunique_ratio'] = to_from_one_degree_feature['to_from_count'] / to_from_one_degree_feature['to_from_nunique']\n",
    "to_from_one_degree_feature['to_from_count_nunique_equal'] = (to_from_one_degree_feature['to_from_count'] == to_from_one_degree_feature['to_from_nunique']).astype(int)"
   ]
  },
  {
   "cell_type": "code",
   "execution_count": 33,
   "metadata": {
    "ExecuteTime": {
     "end_time": "2020-11-23T14:55:15.172753Z",
     "start_time": "2020-11-23T14:52:21.196597Z"
    }
   },
   "outputs": [],
   "source": [
    "to_from_two_degree_feature = train_data.groupby(['to', 'from'])['value'].agg(['sum', 'mean', 'max', 'min']).groupby(['to']).agg(\n",
    "    ['sum', 'std', 'median', 'max', 'min']).add_prefix('to_from_')\n",
    "to_from_two_degree_feature = pd.DataFrame(to_from_two_degree_feature.to_records(), index=None)"
   ]
  },
  {
   "cell_type": "code",
   "execution_count": 34,
   "metadata": {
    "ExecuteTime": {
     "end_time": "2020-11-23T14:55:39.488163Z",
     "start_time": "2020-11-23T14:55:22.642247Z"
    }
   },
   "outputs": [],
   "source": [
    "to_from_degree_feature =  to_from_two_degree_feature.merge(right=to_from_one_degree_feature, left_on='to', right_on='to', how='inner')"
   ]
  },
  {
   "cell_type": "markdown",
   "metadata": {},
   "source": [
    "### 特征拼接"
   ]
  },
  {
   "cell_type": "code",
   "execution_count": 35,
   "metadata": {
    "ExecuteTime": {
     "end_time": "2020-11-23T14:55:49.772625Z",
     "start_time": "2020-11-23T14:55:49.768625Z"
    }
   },
   "outputs": [],
   "source": [
    "def get_feature(train_data):\n",
    "    trival_feature = get_trival_feature(train_data)\n",
    "    from_to_degree_feature, to_from_degree_feature = get_network_feature(train_data)\n",
    "    feature = trival_feature.merge(right=from_to_degree_feature, left_on='address', right_on='from', how='left')\n",
    "    feature = feature.merge(right=to_from_degree_feature, left_on='address', right_on='to',how='left')\n",
    "    feature.drop(['from','to'], inplace=True, axis = 1)\n",
    "    return feature"
   ]
  },
  {
   "cell_type": "code",
   "execution_count": null,
   "metadata": {},
   "outputs": [],
   "source": []
  },
  {
   "cell_type": "code",
   "execution_count": 36,
   "metadata": {
    "ExecuteTime": {
     "end_time": "2020-11-23T14:56:16.934420Z",
     "start_time": "2020-11-23T14:55:59.996104Z"
    }
   },
   "outputs": [],
   "source": [
    "feature = trival_feature.merge(right=from_to_degree_feature, left_on='address', right_on='from', how='left')"
   ]
  },
  {
   "cell_type": "code",
   "execution_count": 37,
   "metadata": {
    "ExecuteTime": {
     "end_time": "2020-11-23T14:56:51.177463Z",
     "start_time": "2020-11-23T14:56:29.313220Z"
    }
   },
   "outputs": [],
   "source": [
    "feature = feature.merge(right=to_from_degree_feature, left_on='address', right_on='to',how='left')"
   ]
  },
  {
   "cell_type": "code",
   "execution_count": 38,
   "metadata": {
    "ExecuteTime": {
     "end_time": "2020-11-23T14:57:11.525487Z",
     "start_time": "2020-11-23T14:57:03.607911Z"
    }
   },
   "outputs": [],
   "source": [
    "feature.drop(['from','to'], inplace=True, axis = 1)"
   ]
  },
  {
   "cell_type": "code",
   "execution_count": 39,
   "metadata": {
    "ExecuteTime": {
     "end_time": "2020-11-23T14:57:23.291668Z",
     "start_time": "2020-11-23T14:57:23.284668Z"
    }
   },
   "outputs": [],
   "source": [
    "def deal_feature_name(x):\n",
    "    if x.count('from_to_') == 2:\n",
    "        return 'from_in_' + x[1:-1].replace('from_to_', '').replace(',', '').replace('\\'', '').replace(' ', '_')\n",
    "    if x.count('to_from_') == 2:\n",
    "        return 'to_out_' + x[1:-1].replace('to_from_', '').replace(',', '').replace('\\'', '').replace(' ', '_')\n",
    "    if x.count('from_to_') == 1:\n",
    "        return x.replace('from_to', 'out')\n",
    "    if x.count('to_from_') == 1:\n",
    "        return x.replace('to_from', 'in')\n",
    "    if (x.count('block') == 1 or x.count('value') == 1):\n",
    "        return x.replace('from_block', 'out_block').replace('from_value', 'out_value').replace('to_block', 'in_block').replace('to_value', 'in_value')\n",
    "    return x"
   ]
  },
  {
   "cell_type": "code",
   "execution_count": 40,
   "metadata": {
    "ExecuteTime": {
     "end_time": "2020-11-23T15:21:59.109139Z",
     "start_time": "2020-11-23T14:57:34.983894Z"
    }
   },
   "outputs": [],
   "source": [
    "feature = get_feature(train_data)\n",
    "#处理特征名称\n",
    "feature.columns = list(map(deal_feature_name,feature.columns))"
   ]
  },
  {
   "cell_type": "code",
   "execution_count": 41,
   "metadata": {
    "ExecuteTime": {
     "end_time": "2020-11-23T15:22:11.324331Z",
     "start_time": "2020-11-23T15:22:11.319350Z"
    }
   },
   "outputs": [
    {
     "data": {
      "text/plain": [
       "Index(['out_block_ptp', 'out_block_std', 'out_value_sum', 'out_value_mean',\n",
       "       'out_value_std', 'out_value_max', 'out_value_min', 'in_block_ptp',\n",
       "       'in_block_std', 'in_value_sum', 'in_value_mean', 'in_value_std',\n",
       "       'in_value_max', 'in_value_min', 'address', 'from_in_sum_sum',\n",
       "       'from_in_sum_std', 'from_in_sum_median', 'from_in_sum_max',\n",
       "       'from_in_sum_min', 'from_in_mean_sum', 'from_in_mean_std',\n",
       "       'from_in_mean_median', 'from_in_mean_max', 'from_in_mean_min',\n",
       "       'from_in_max_sum', 'from_in_max_std', 'from_in_max_median',\n",
       "       'from_in_max_max', 'from_in_max_min', 'from_in_min_sum',\n",
       "       'from_in_min_std', 'from_in_min_median', 'from_in_min_max',\n",
       "       'from_in_min_min', 'out_count', 'out_nunique',\n",
       "       'out_count_nunique_ratio', 'out_count_nunique_equal', 'to_out_sum_sum',\n",
       "       'to_out_sum_std', 'to_out_sum_median', 'to_out_sum_max',\n",
       "       'to_out_sum_min', 'to_out_mean_sum', 'to_out_mean_std',\n",
       "       'to_out_mean_median', 'to_out_mean_max', 'to_out_mean_min',\n",
       "       'to_out_max_sum', 'to_out_max_std', 'to_out_max_median',\n",
       "       'to_out_max_max', 'to_out_max_min', 'to_out_min_sum', 'to_out_min_std',\n",
       "       'to_out_min_median', 'to_out_min_max', 'to_out_min_min', 'in_count',\n",
       "       'in_nunique', 'in_count_nunique_ratio', 'in_count_nunique_equal'],\n",
       "      dtype='object')"
      ]
     },
     "execution_count": 41,
     "metadata": {},
     "output_type": "execute_result"
    }
   ],
   "source": [
    "feature.columns"
   ]
  },
  {
   "cell_type": "code",
   "execution_count": null,
   "metadata": {},
   "outputs": [],
   "source": []
  },
  {
   "cell_type": "code",
   "execution_count": 42,
   "metadata": {
    "ExecuteTime": {
     "end_time": "2020-11-23T15:23:05.355642Z",
     "start_time": "2020-11-23T15:22:23.220616Z"
    }
   },
   "outputs": [],
   "source": [
    "X_train, y_train = feature_matrix_to_train_matrix(feature, train_label)"
   ]
  },
  {
   "cell_type": "code",
   "execution_count": 43,
   "metadata": {
    "ExecuteTime": {
     "end_time": "2020-11-23T15:23:17.443666Z",
     "start_time": "2020-11-23T15:23:17.438663Z"
    }
   },
   "outputs": [
    {
     "data": {
      "text/plain": [
       "8385"
      ]
     },
     "execution_count": 43,
     "metadata": {},
     "output_type": "execute_result"
    }
   ],
   "source": [
    "len(y_train)"
   ]
  },
  {
   "cell_type": "markdown",
   "metadata": {},
   "source": [
    "## 模型测试"
   ]
  },
  {
   "cell_type": "code",
   "execution_count": 44,
   "metadata": {
    "ExecuteTime": {
     "end_time": "2020-11-23T15:23:29.631318Z",
     "start_time": "2020-11-23T15:23:29.622318Z"
    }
   },
   "outputs": [],
   "source": [
    "threshold = 0.5\n",
    "def lgb_evalMetric(preds,dtrain):\n",
    "    label = dtrain.get_label()\n",
    "    pre = pd.DataFrame({'preds':preds,'label':label})\n",
    "    pre= pre.sort_values(by='preds',ascending=False)\n",
    "    pre.preds=pre.preds.map(lambda x: 1 if x>=threshold else 0)\n",
    "    auc = metrics.roc_auc_score(pre.label,pre.preds)\n",
    "    precision = metrics.precision_score(pre.label,pre.preds)\n",
    "    recall = metrics.recall_score(pre.label,pre.preds)\n",
    "    res = auc\n",
    "    return 'res',res, True\n",
    "\n",
    "def lgb_pre_evalMetric(preds,dtrain):\n",
    "    label = dtrain.get_label()\n",
    "    pre = pd.DataFrame({'preds':preds,'label':label})\n",
    "    pre= pre.sort_values(by='preds',ascending=False)\n",
    "    pre.preds=pre.preds.map(lambda x: 1 if x>=threshold else 0)\n",
    "    precision = metrics.precision_score(pre.label,pre.preds)\n",
    "    res = precision\n",
    "    return 'res',res, True\n",
    "\n",
    "def lgb_recall_evalMetric(preds,dtrain):\n",
    "    label = dtrain.get_label()\n",
    "    pre = pd.DataFrame({'preds':preds,'label':label})\n",
    "    pre= pre.sort_values(by='preds',ascending=False)\n",
    "    pre.preds=pre.preds.map(lambda x: 1 if x>=threshold else 0)\n",
    "    recall = metrics.recall_score(pre.label,pre.preds)\n",
    "    res = recall\n",
    "    return 'res',res, True\n",
    "\n",
    "def lgb_auc_evalMetric(preds,dtrain):\n",
    "    label = dtrain.get_label()\n",
    "    pre = pd.DataFrame({'preds':preds,'label':label})\n",
    "    pre= pre.sort_values(by='preds',ascending=False)\n",
    "    pre.preds=pre.preds.map(lambda x: 1 if x>=threshold else 0)\n",
    "    auc = metrics.roc_auc_score(pre.label,pre.preds)\n",
    "    res = auc\n",
    "    return 'res',res, True"
   ]
  },
  {
   "cell_type": "code",
   "execution_count": 45,
   "metadata": {
    "ExecuteTime": {
     "end_time": "2020-11-23T15:23:41.638277Z",
     "start_time": "2020-11-23T15:23:41.635275Z"
    }
   },
   "outputs": [],
   "source": [
    "lgb_params = {\n",
    "    'boosting_type': 'gbdt',\n",
    "    'objective': 'binary',\n",
    "    #'colsample_bytree': 0.8,\n",
    "    'learning_rate': 0.2,\n",
    "    'num_leaves': 8,\n",
    "    'verbosity': 1\n",
    "    }"
   ]
  },
  {
   "cell_type": "code",
   "execution_count": 46,
   "metadata": {
    "ExecuteTime": {
     "end_time": "2020-11-23T15:23:53.616903Z",
     "start_time": "2020-11-23T15:23:53.612904Z"
    }
   },
   "outputs": [],
   "source": [
    "dtrain = lgb.Dataset(X_train, label = y_train)"
   ]
  },
  {
   "cell_type": "code",
   "execution_count": 47,
   "metadata": {
    "ExecuteTime": {
     "end_time": "2020-11-23T15:24:05.306234Z",
     "start_time": "2020-11-23T15:24:05.278237Z"
    }
   },
   "outputs": [
    {
     "data": {
      "text/html": [
       "<div>\n",
       "<style scoped>\n",
       "    .dataframe tbody tr th:only-of-type {\n",
       "        vertical-align: middle;\n",
       "    }\n",
       "\n",
       "    .dataframe tbody tr th {\n",
       "        vertical-align: top;\n",
       "    }\n",
       "\n",
       "    .dataframe thead th {\n",
       "        text-align: right;\n",
       "    }\n",
       "</style>\n",
       "<table border=\"1\" class=\"dataframe\">\n",
       "  <thead>\n",
       "    <tr style=\"text-align: right;\">\n",
       "      <th></th>\n",
       "      <th>out_block_ptp</th>\n",
       "      <th>out_block_std</th>\n",
       "      <th>out_value_sum</th>\n",
       "      <th>out_value_mean</th>\n",
       "      <th>out_value_std</th>\n",
       "      <th>out_value_max</th>\n",
       "      <th>out_value_min</th>\n",
       "      <th>in_block_ptp</th>\n",
       "      <th>in_block_std</th>\n",
       "      <th>in_value_sum</th>\n",
       "      <th>...</th>\n",
       "      <th>to_out_max_min</th>\n",
       "      <th>to_out_min_sum</th>\n",
       "      <th>to_out_min_std</th>\n",
       "      <th>to_out_min_median</th>\n",
       "      <th>to_out_min_max</th>\n",
       "      <th>to_out_min_min</th>\n",
       "      <th>in_count</th>\n",
       "      <th>in_nunique</th>\n",
       "      <th>in_count_nunique_ratio</th>\n",
       "      <th>in_count_nunique_equal</th>\n",
       "    </tr>\n",
       "  </thead>\n",
       "  <tbody>\n",
       "    <tr>\n",
       "      <th>3170878</th>\n",
       "      <td>0</td>\n",
       "      <td>NaN</td>\n",
       "      <td>24.044183</td>\n",
       "      <td>24.044183</td>\n",
       "      <td>NaN</td>\n",
       "      <td>24.044183</td>\n",
       "      <td>24.044183</td>\n",
       "      <td>2</td>\n",
       "      <td>1.414214</td>\n",
       "      <td>101.00</td>\n",
       "      <td>...</td>\n",
       "      <td>29.486299</td>\n",
       "      <td>101.00</td>\n",
       "      <td>29.717861</td>\n",
       "      <td>50.50</td>\n",
       "      <td>71.513701</td>\n",
       "      <td>29.486299</td>\n",
       "      <td>2</td>\n",
       "      <td>2</td>\n",
       "      <td>1.0</td>\n",
       "      <td>1</td>\n",
       "    </tr>\n",
       "    <tr>\n",
       "      <th>4669941</th>\n",
       "      <td>11</td>\n",
       "      <td>7.778175</td>\n",
       "      <td>555.906982</td>\n",
       "      <td>277.953491</td>\n",
       "      <td>381.213026</td>\n",
       "      <td>547.511807</td>\n",
       "      <td>8.395175</td>\n",
       "      <td>1</td>\n",
       "      <td>0.707107</td>\n",
       "      <td>2001.00</td>\n",
       "      <td>...</td>\n",
       "      <td>369.402991</td>\n",
       "      <td>2001.00</td>\n",
       "      <td>892.505949</td>\n",
       "      <td>1000.50</td>\n",
       "      <td>1631.597009</td>\n",
       "      <td>369.402991</td>\n",
       "      <td>2</td>\n",
       "      <td>2</td>\n",
       "      <td>1.0</td>\n",
       "      <td>1</td>\n",
       "    </tr>\n",
       "    <tr>\n",
       "      <th>2318236</th>\n",
       "      <td>10</td>\n",
       "      <td>4.509250</td>\n",
       "      <td>100.998320</td>\n",
       "      <td>25.249580</td>\n",
       "      <td>48.855623</td>\n",
       "      <td>98.513346</td>\n",
       "      <td>0.000960</td>\n",
       "      <td>2</td>\n",
       "      <td>1.414214</td>\n",
       "      <td>101.00</td>\n",
       "      <td>...</td>\n",
       "      <td>19.083959</td>\n",
       "      <td>101.00</td>\n",
       "      <td>44.428991</td>\n",
       "      <td>50.50</td>\n",
       "      <td>81.916041</td>\n",
       "      <td>19.083959</td>\n",
       "      <td>2</td>\n",
       "      <td>2</td>\n",
       "      <td>1.0</td>\n",
       "      <td>1</td>\n",
       "    </tr>\n",
       "    <tr>\n",
       "      <th>370213</th>\n",
       "      <td>527611</td>\n",
       "      <td>267325.215747</td>\n",
       "      <td>5.635785</td>\n",
       "      <td>1.878595</td>\n",
       "      <td>1.848813</td>\n",
       "      <td>3.750000</td>\n",
       "      <td>0.053233</td>\n",
       "      <td>17787</td>\n",
       "      <td>9103.289094</td>\n",
       "      <td>4.04</td>\n",
       "      <td>...</td>\n",
       "      <td>1.850000</td>\n",
       "      <td>1.09</td>\n",
       "      <td>NaN</td>\n",
       "      <td>1.09</td>\n",
       "      <td>1.090000</td>\n",
       "      <td>1.090000</td>\n",
       "      <td>3</td>\n",
       "      <td>1</td>\n",
       "      <td>3.0</td>\n",
       "      <td>0</td>\n",
       "    </tr>\n",
       "    <tr>\n",
       "      <th>4814803</th>\n",
       "      <td>1</td>\n",
       "      <td>0.707107</td>\n",
       "      <td>90.998740</td>\n",
       "      <td>45.499370</td>\n",
       "      <td>4.336853</td>\n",
       "      <td>48.565988</td>\n",
       "      <td>42.432752</td>\n",
       "      <td>0</td>\n",
       "      <td>0.000000</td>\n",
       "      <td>101.00</td>\n",
       "      <td>...</td>\n",
       "      <td>23.092228</td>\n",
       "      <td>101.00</td>\n",
       "      <td>38.760442</td>\n",
       "      <td>50.50</td>\n",
       "      <td>77.907772</td>\n",
       "      <td>23.092228</td>\n",
       "      <td>2</td>\n",
       "      <td>2</td>\n",
       "      <td>1.0</td>\n",
       "      <td>1</td>\n",
       "    </tr>\n",
       "    <tr>\n",
       "      <th>...</th>\n",
       "      <td>...</td>\n",
       "      <td>...</td>\n",
       "      <td>...</td>\n",
       "      <td>...</td>\n",
       "      <td>...</td>\n",
       "      <td>...</td>\n",
       "      <td>...</td>\n",
       "      <td>...</td>\n",
       "      <td>...</td>\n",
       "      <td>...</td>\n",
       "      <td>...</td>\n",
       "      <td>...</td>\n",
       "      <td>...</td>\n",
       "      <td>...</td>\n",
       "      <td>...</td>\n",
       "      <td>...</td>\n",
       "      <td>...</td>\n",
       "      <td>...</td>\n",
       "      <td>...</td>\n",
       "      <td>...</td>\n",
       "      <td>...</td>\n",
       "    </tr>\n",
       "    <tr>\n",
       "      <th>7546493</th>\n",
       "      <td>27</td>\n",
       "      <td>12.449900</td>\n",
       "      <td>1000.998320</td>\n",
       "      <td>250.249580</td>\n",
       "      <td>308.442450</td>\n",
       "      <td>635.067477</td>\n",
       "      <td>0.000960</td>\n",
       "      <td>0</td>\n",
       "      <td>0.000000</td>\n",
       "      <td>1001.00</td>\n",
       "      <td>...</td>\n",
       "      <td>265.595539</td>\n",
       "      <td>1001.00</td>\n",
       "      <td>332.205075</td>\n",
       "      <td>500.50</td>\n",
       "      <td>735.404461</td>\n",
       "      <td>265.595539</td>\n",
       "      <td>2</td>\n",
       "      <td>2</td>\n",
       "      <td>1.0</td>\n",
       "      <td>1</td>\n",
       "    </tr>\n",
       "    <tr>\n",
       "      <th>5677870</th>\n",
       "      <td>0</td>\n",
       "      <td>0.000000</td>\n",
       "      <td>1000.484718</td>\n",
       "      <td>500.242359</td>\n",
       "      <td>230.434229</td>\n",
       "      <td>663.183965</td>\n",
       "      <td>337.300753</td>\n",
       "      <td>1</td>\n",
       "      <td>0.707107</td>\n",
       "      <td>1001.00</td>\n",
       "      <td>...</td>\n",
       "      <td>87.018153</td>\n",
       "      <td>1001.00</td>\n",
       "      <td>584.751636</td>\n",
       "      <td>500.50</td>\n",
       "      <td>913.981847</td>\n",
       "      <td>87.018153</td>\n",
       "      <td>2</td>\n",
       "      <td>2</td>\n",
       "      <td>1.0</td>\n",
       "      <td>1</td>\n",
       "    </tr>\n",
       "    <tr>\n",
       "      <th>5387707</th>\n",
       "      <td>0</td>\n",
       "      <td>0.000000</td>\n",
       "      <td>1000.512713</td>\n",
       "      <td>500.256357</td>\n",
       "      <td>526.009404</td>\n",
       "      <td>872.201173</td>\n",
       "      <td>128.311540</td>\n",
       "      <td>0</td>\n",
       "      <td>0.000000</td>\n",
       "      <td>1001.00</td>\n",
       "      <td>...</td>\n",
       "      <td>66.453688</td>\n",
       "      <td>1001.00</td>\n",
       "      <td>613.834180</td>\n",
       "      <td>500.50</td>\n",
       "      <td>934.546312</td>\n",
       "      <td>66.453688</td>\n",
       "      <td>2</td>\n",
       "      <td>2</td>\n",
       "      <td>1.0</td>\n",
       "      <td>1</td>\n",
       "    </tr>\n",
       "    <tr>\n",
       "      <th>2474913</th>\n",
       "      <td>4</td>\n",
       "      <td>2.828427</td>\n",
       "      <td>97.392500</td>\n",
       "      <td>48.696250</td>\n",
       "      <td>68.865540</td>\n",
       "      <td>97.391540</td>\n",
       "      <td>0.000960</td>\n",
       "      <td>2</td>\n",
       "      <td>1.414214</td>\n",
       "      <td>101.00</td>\n",
       "      <td>...</td>\n",
       "      <td>18.576265</td>\n",
       "      <td>101.00</td>\n",
       "      <td>45.146979</td>\n",
       "      <td>50.50</td>\n",
       "      <td>82.423735</td>\n",
       "      <td>18.576265</td>\n",
       "      <td>2</td>\n",
       "      <td>2</td>\n",
       "      <td>1.0</td>\n",
       "      <td>1</td>\n",
       "    </tr>\n",
       "    <tr>\n",
       "      <th>215601</th>\n",
       "      <td>18</td>\n",
       "      <td>12.727922</td>\n",
       "      <td>100.440703</td>\n",
       "      <td>50.220352</td>\n",
       "      <td>37.038482</td>\n",
       "      <td>76.410513</td>\n",
       "      <td>24.030190</td>\n",
       "      <td>11</td>\n",
       "      <td>7.778175</td>\n",
       "      <td>101.00</td>\n",
       "      <td>...</td>\n",
       "      <td>41.798105</td>\n",
       "      <td>101.00</td>\n",
       "      <td>12.306338</td>\n",
       "      <td>50.50</td>\n",
       "      <td>59.201895</td>\n",
       "      <td>41.798105</td>\n",
       "      <td>2</td>\n",
       "      <td>2</td>\n",
       "      <td>1.0</td>\n",
       "      <td>1</td>\n",
       "    </tr>\n",
       "  </tbody>\n",
       "</table>\n",
       "<p>8385 rows × 62 columns</p>\n",
       "</div>"
      ],
      "text/plain": [
       "         out_block_ptp  out_block_std  out_value_sum  out_value_mean  \\\n",
       "3170878              0            NaN      24.044183       24.044183   \n",
       "4669941             11       7.778175     555.906982      277.953491   \n",
       "2318236             10       4.509250     100.998320       25.249580   \n",
       "370213          527611  267325.215747       5.635785        1.878595   \n",
       "4814803              1       0.707107      90.998740       45.499370   \n",
       "...                ...            ...            ...             ...   \n",
       "7546493             27      12.449900    1000.998320      250.249580   \n",
       "5677870              0       0.000000    1000.484718      500.242359   \n",
       "5387707              0       0.000000    1000.512713      500.256357   \n",
       "2474913              4       2.828427      97.392500       48.696250   \n",
       "215601              18      12.727922     100.440703       50.220352   \n",
       "\n",
       "         out_value_std  out_value_max  out_value_min  in_block_ptp  \\\n",
       "3170878            NaN      24.044183      24.044183             2   \n",
       "4669941     381.213026     547.511807       8.395175             1   \n",
       "2318236      48.855623      98.513346       0.000960             2   \n",
       "370213        1.848813       3.750000       0.053233         17787   \n",
       "4814803       4.336853      48.565988      42.432752             0   \n",
       "...                ...            ...            ...           ...   \n",
       "7546493     308.442450     635.067477       0.000960             0   \n",
       "5677870     230.434229     663.183965     337.300753             1   \n",
       "5387707     526.009404     872.201173     128.311540             0   \n",
       "2474913      68.865540      97.391540       0.000960             2   \n",
       "215601       37.038482      76.410513      24.030190            11   \n",
       "\n",
       "         in_block_std  in_value_sum  ...  to_out_max_min  to_out_min_sum  \\\n",
       "3170878      1.414214        101.00  ...       29.486299          101.00   \n",
       "4669941      0.707107       2001.00  ...      369.402991         2001.00   \n",
       "2318236      1.414214        101.00  ...       19.083959          101.00   \n",
       "370213    9103.289094          4.04  ...        1.850000            1.09   \n",
       "4814803      0.000000        101.00  ...       23.092228          101.00   \n",
       "...               ...           ...  ...             ...             ...   \n",
       "7546493      0.000000       1001.00  ...      265.595539         1001.00   \n",
       "5677870      0.707107       1001.00  ...       87.018153         1001.00   \n",
       "5387707      0.000000       1001.00  ...       66.453688         1001.00   \n",
       "2474913      1.414214        101.00  ...       18.576265          101.00   \n",
       "215601       7.778175        101.00  ...       41.798105          101.00   \n",
       "\n",
       "         to_out_min_std  to_out_min_median  to_out_min_max  to_out_min_min  \\\n",
       "3170878       29.717861              50.50       71.513701       29.486299   \n",
       "4669941      892.505949            1000.50     1631.597009      369.402991   \n",
       "2318236       44.428991              50.50       81.916041       19.083959   \n",
       "370213              NaN               1.09        1.090000        1.090000   \n",
       "4814803       38.760442              50.50       77.907772       23.092228   \n",
       "...                 ...                ...             ...             ...   \n",
       "7546493      332.205075             500.50      735.404461      265.595539   \n",
       "5677870      584.751636             500.50      913.981847       87.018153   \n",
       "5387707      613.834180             500.50      934.546312       66.453688   \n",
       "2474913       45.146979              50.50       82.423735       18.576265   \n",
       "215601        12.306338              50.50       59.201895       41.798105   \n",
       "\n",
       "         in_count  in_nunique  in_count_nunique_ratio  in_count_nunique_equal  \n",
       "3170878         2           2                     1.0                       1  \n",
       "4669941         2           2                     1.0                       1  \n",
       "2318236         2           2                     1.0                       1  \n",
       "370213          3           1                     3.0                       0  \n",
       "4814803         2           2                     1.0                       1  \n",
       "...           ...         ...                     ...                     ...  \n",
       "7546493         2           2                     1.0                       1  \n",
       "5677870         2           2                     1.0                       1  \n",
       "5387707         2           2                     1.0                       1  \n",
       "2474913         2           2                     1.0                       1  \n",
       "215601          2           2                     1.0                       1  \n",
       "\n",
       "[8385 rows x 62 columns]"
      ]
     },
     "execution_count": 47,
     "metadata": {},
     "output_type": "execute_result"
    }
   ],
   "source": [
    "X_train"
   ]
  },
  {
   "cell_type": "code",
   "execution_count": 53,
   "metadata": {
    "ExecuteTime": {
     "end_time": "2020-11-24T04:13:50.305663Z",
     "start_time": "2020-11-24T04:13:43.562784Z"
    }
   },
   "outputs": [
    {
     "name": "stdout",
     "output_type": "stream",
     "text": [
      "[LightGBM] [Info] Number of positive: 533, number of negative: 5057\n",
      "[LightGBM] [Warning] Auto-choosing col-wise multi-threading, the overhead of testing was 0.004026 seconds.\n",
      "You can set `force_col_wise=true` to remove the overhead.\n",
      "[LightGBM] [Info] Total Bins 14267\n",
      "[LightGBM] [Info] Number of data points in the train set: 5590, number of used features: 62\n",
      "[LightGBM] [Info] Number of positive: 533, number of negative: 5057\n",
      "[LightGBM] [Warning] Auto-choosing col-wise multi-threading, the overhead of testing was 0.004058 seconds.\n",
      "You can set `force_col_wise=true` to remove the overhead.\n",
      "[LightGBM] [Info] Total Bins 14267\n",
      "[LightGBM] [Info] Number of data points in the train set: 5590, number of used features: 62\n",
      "[LightGBM] [Info] Number of positive: 532, number of negative: 5058\n",
      "[LightGBM] [Warning] Auto-choosing col-wise multi-threading, the overhead of testing was 0.004196 seconds.\n",
      "You can set `force_col_wise=true` to remove the overhead.\n",
      "[LightGBM] [Info] Total Bins 14267\n",
      "[LightGBM] [Info] Number of data points in the train set: 5590, number of used features: 62\n",
      "[LightGBM] [Info] [binary:BoostFromScore]: pavg=0.095349 -> initscore=-2.250007\n",
      "[LightGBM] [Info] Start training from score -2.250007\n",
      "[LightGBM] [Info] [binary:BoostFromScore]: pavg=0.095349 -> initscore=-2.250007\n",
      "[LightGBM] [Info] Start training from score -2.250007\n",
      "[LightGBM] [Info] [binary:BoostFromScore]: pavg=0.095170 -> initscore=-2.252083\n",
      "[LightGBM] [Info] Start training from score -2.252083\n"
     ]
    },
    {
     "name": "stderr",
     "output_type": "stream",
     "text": [
      "D:\\ProgramData\\anaconda\\lib\\site-packages\\sklearn\\metrics\\_classification.py:1221: UndefinedMetricWarning: Precision is ill-defined and being set to 0.0 due to no predicted samples. Use `zero_division` parameter to control this behavior.\n",
      "  _warn_prf(average, modifier, msg_start, len(result))\n",
      "D:\\ProgramData\\anaconda\\lib\\site-packages\\sklearn\\metrics\\_classification.py:1221: UndefinedMetricWarning: Precision is ill-defined and being set to 0.0 due to no predicted samples. Use `zero_division` parameter to control this behavior.\n",
      "  _warn_prf(average, modifier, msg_start, len(result))\n",
      "D:\\ProgramData\\anaconda\\lib\\site-packages\\sklearn\\metrics\\_classification.py:1221: UndefinedMetricWarning: Precision is ill-defined and being set to 0.0 due to no predicted samples. Use `zero_division` parameter to control this behavior.\n",
      "  _warn_prf(average, modifier, msg_start, len(result))\n",
      "D:\\ProgramData\\anaconda\\lib\\site-packages\\sklearn\\metrics\\_classification.py:1221: UndefinedMetricWarning: Precision is ill-defined and being set to 0.0 due to no predicted samples. Use `zero_division` parameter to control this behavior.\n",
      "  _warn_prf(average, modifier, msg_start, len(result))\n"
     ]
    },
    {
     "name": "stdout",
     "output_type": "stream",
     "text": [
      "[10]\tcv_agg's res: 0.827136 + 0.00713056\n",
      "[20]\tcv_agg's res: 0.845455 + 0.00545512\n",
      "[30]\tcv_agg's res: 0.851153 + 0.00619371\n",
      "[40]\tcv_agg's res: 0.852767 + 0.0064296\n",
      "[50]\tcv_agg's res: 0.858623 + 0.00687808\n",
      "[60]\tcv_agg's res: 0.860173 + 0.00636969\n",
      "[70]\tcv_agg's res: 0.860171 + 0.00742489\n",
      "[80]\tcv_agg's res: 0.859909 + 0.0059465\n",
      "[90]\tcv_agg's res: 0.859622 + 0.00111831\n",
      "[100]\tcv_agg's res: 0.858239 + 0.00181924\n",
      "[110]\tcv_agg's res: 0.859285 + 0.0064814\n",
      "[120]\tcv_agg's res: 0.859285 + 0.00781355\n",
      "[130]\tcv_agg's res: 0.858331 + 0.00494462\n",
      "[140]\tcv_agg's res: 0.862354 + 0.00615874\n",
      "[150]\tcv_agg's res: 0.862976 + 0.00751849\n",
      "[160]\tcv_agg's res: 0.864493 + 0.0059436\n",
      "[170]\tcv_agg's res: 0.864926 + 0.00635445\n",
      "[180]\tcv_agg's res: 0.865687 + 0.00685875\n",
      "[190]\tcv_agg's res: 0.864239 + 0.00917733\n",
      "[200]\tcv_agg's res: 0.861742 + 0.00942812\n",
      "[210]\tcv_agg's res: 0.859106 + 0.00643618\n",
      "[220]\tcv_agg's res: 0.85993 + 0.00829571\n",
      "[230]\tcv_agg's res: 0.862168 + 0.00668023\n",
      "[240]\tcv_agg's res: 0.860423 + 0.00870115\n",
      "[250]\tcv_agg's res: 0.859928 + 0.00803857\n"
     ]
    }
   ],
   "source": [
    "cv_res = lgb.cv(lgb_params, dtrain, num_boost_round=250,feval=lgb_evalMetric, verbose_eval = 10, nfold=3,metrics=('lgb_evalMetric'),\n",
    "       early_stopping_rounds= 100)"
   ]
  },
  {
   "cell_type": "code",
   "execution_count": null,
   "metadata": {},
   "outputs": [],
   "source": []
  },
  {
   "cell_type": "code",
   "execution_count": 49,
   "metadata": {
    "ExecuteTime": {
     "end_time": "2020-11-23T15:24:33.238705Z",
     "start_time": "2020-11-23T15:24:33.234705Z"
    }
   },
   "outputs": [
    {
     "data": {
      "text/plain": [
       "0.8599614243722938"
      ]
     },
     "execution_count": 49,
     "metadata": {},
     "output_type": "execute_result"
    }
   ],
   "source": [
    "max(cv_res['res-mean'])"
   ]
  },
  {
   "cell_type": "code",
   "execution_count": null,
   "metadata": {},
   "outputs": [],
   "source": []
  },
  {
   "cell_type": "code",
   "execution_count": null,
   "metadata": {},
   "outputs": [],
   "source": []
  },
  {
   "cell_type": "code",
   "execution_count": null,
   "metadata": {},
   "outputs": [],
   "source": []
  },
  {
   "cell_type": "code",
   "execution_count": null,
   "metadata": {},
   "outputs": [],
   "source": []
  },
  {
   "cell_type": "code",
   "execution_count": null,
   "metadata": {
    "ExecuteTime": {
     "end_time": "2020-11-24T06:07:14.366807Z",
     "start_time": "2020-11-24T05:58:33.090976Z"
    }
   },
   "outputs": [],
   "source": [
    "while True:    \n",
    "    X_train, y_train = feature_matrix_to_train_matrix(feature, train_label)\n",
    "    dtrain = lgb.Dataset(X_train, label = y_train)\n",
    "    evals_result = {}\n",
    "    lgb_model = lgb.train(lgb_params, dtrain, num_boost_round=400,feval=lgb_evalMetric, verbose_eval = 10,valid_sets=dtrain,evals_result=evals_result,#非常重要的参数,一定要明确设置\n",
    "           early_stopping_rounds= 100)\n",
    "    sorted_impo = pd.DataFrame([lgb_model.feature_name(), lgb_model.feature_importance()]).T.sort_values(by=1, ascending=False)[0]\n",
    "    if (sorted_impo[1] == 'to_out_sum_median' and sorted_impo[2] == 'from_in_sum_mean') :break"
   ]
  },
  {
   "cell_type": "code",
   "execution_count": null,
   "metadata": {},
   "outputs": [],
   "source": [
    "lgb.plot_importance(lgb_model, max_num_features=15, title='')\n",
    "plt.savefig('importance.jpg')"
   ]
  },
  {
   "cell_type": "code",
   "execution_count": null,
   "metadata": {},
   "outputs": [],
   "source": [
    "sorted_impo = pd.DataFrame([lgb_model.feature_name(), lgb_model.feature_importance()]).T.sort_values(by=1, ascending=False)[0]"
   ]
  },
  {
   "cell_type": "code",
   "execution_count": null,
   "metadata": {},
   "outputs": [],
   "source": []
  },
  {
   "cell_type": "markdown",
   "metadata": {},
   "source": [
    "### 动态性测试"
   ]
  },
  {
   "cell_type": "code",
   "execution_count": null,
   "metadata": {},
   "outputs": [],
   "source": [
    "import warnings\n",
    "warnings.filterwarnings(\"ignore\")"
   ]
  },
  {
   "cell_type": "code",
   "execution_count": null,
   "metadata": {},
   "outputs": [],
   "source": [
    "#按時間劃分\n",
    "cv_res = []\n",
    "frac_num = 15\n",
    "for i in range(frac_num):\n",
    "    curr_train = train_data[0:int(len(train_data) * ((i + 1) / frac_num))]\n",
    "\n",
    "    curr_feature = get_feature(curr_train)\n",
    "\n",
    "    X_curr, y_curr = feature_matrix_to_train_matrix(curr_feature, train_label)\n",
    "\n",
    "    dtrain = lgb.Dataset(X_curr, label = y_curr)\n",
    "\n",
    "    cv_tmp = lgb.cv(lgb_params, dtrain, num_boost_round=400,feval=lgb_evalMetric, verbose_eval = 10, nfold=2,metrics=('lgb_evalMetric'),\n",
    "           early_stopping_rounds= 100)\n",
    "\n",
    "    cv_res.append(max(cv_tmp['res-mean']))"
   ]
  },
  {
   "cell_type": "code",
   "execution_count": null,
   "metadata": {},
   "outputs": [],
   "source": [
    "cv_res"
   ]
  },
  {
   "cell_type": "code",
   "execution_count": null,
   "metadata": {},
   "outputs": [],
   "source": []
  },
  {
   "cell_type": "code",
   "execution_count": null,
   "metadata": {},
   "outputs": [],
   "source": []
  },
  {
   "cell_type": "code",
   "execution_count": null,
   "metadata": {},
   "outputs": [],
   "source": [
    "phishing_label = pd.read_csv('./data/phishing_label.csv')"
   ]
  },
  {
   "cell_type": "code",
   "execution_count": null,
   "metadata": {},
   "outputs": [],
   "source": [
    "len(train_data)"
   ]
  },
  {
   "cell_type": "code",
   "execution_count": null,
   "metadata": {},
   "outputs": [],
   "source": [
    "address_map = {}\n",
    "def cal_data_index(x):\n",
    "    if x in address_map:\n",
    "        address_map[x] = address_map[x] + 1\n",
    "    else:\n",
    "        address_map[x] = 1\n",
    "    return address_map[x]"
   ]
  },
  {
   "cell_type": "code",
   "execution_count": null,
   "metadata": {},
   "outputs": [],
   "source": [
    "train_data['data_index'] = train_data['to'].apply(cal_data_index)"
   ]
  },
  {
   "cell_type": "code",
   "execution_count": null,
   "metadata": {},
   "outputs": [],
   "source": [
    "upperbound = 59\n",
    "cv_pre_res = []\n",
    "cv_recall_res = []\n",
    "cv_auc_res = []\n",
    "for i in range(upperbound):\n",
    "    kth_train_address_set = set(train_data[train_data['data_index'] == i + 1]['to'])\n",
    "    kth_train_data = train_data[train_data['data_index'] <= i + 1]\n",
    "    kth_train_data = kth_train_data[kth_train_data['to'].isin(kth_train_address_set)]\n",
    "    kth_train_feature = get_feature(kth_train_data)\n",
    "    X_kth, y_kth = feature_matrix_to_train_matrix(kth_train_feature, train_label)\n",
    "    dtrain = lgb.Dataset(X_kth, label = y_kth)\n",
    "    cv_pre_tmp = lgb.cv(lgb_params, dtrain, num_boost_round=400,feval=lgb_pre_evalMetric, verbose_eval = 10, nfold=2,metrics=('lgb_pre_evalMetric'),\n",
    "           early_stopping_rounds= 100)\n",
    "    cv_recall_tmp = lgb.cv(lgb_params, dtrain, num_boost_round=400,feval=lgb_recall_evalMetric, verbose_eval = 10, nfold=2,metrics=('lgb_recall_evalMetric'),\n",
    "           early_stopping_rounds= 100)   \n",
    "    cv_auc_tmp = lgb.cv(lgb_params, dtrain, num_boost_round=400,feval=lgb_auc_evalMetric, verbose_eval = 10, nfold=2,metrics=('lgb_auc_evalMetric'),\n",
    "           early_stopping_rounds= 100)      \n",
    "    cv_pre_res.append(max(cv_pre_tmp['res-mean']))\n",
    "    cv_recall_res.append(max(cv_recall_tmp['res-mean']))\n",
    "    cv_auc_res.append(max(cv_auc_tmp['res-mean']))"
   ]
  },
  {
   "cell_type": "code",
   "execution_count": null,
   "metadata": {},
   "outputs": [],
   "source": [
    "cv_f1_res = list(map(lambda x, y:  2 * x * y / (x + y), cv_pre_res, cv_recall_res))"
   ]
  },
  {
   "cell_type": "code",
   "execution_count": null,
   "metadata": {},
   "outputs": [],
   "source": [
    "cv_pre_res[15]"
   ]
  },
  {
   "cell_type": "code",
   "execution_count": null,
   "metadata": {},
   "outputs": [],
   "source": [
    "index = list(range(len(cv_auc_res)))"
   ]
  },
  {
   "cell_type": "code",
   "execution_count": null,
   "metadata": {},
   "outputs": [],
   "source": [
    "import matplotlib.pyplot as plt\n",
    "x = np.array(index)\n",
    "\n",
    "\n",
    "y_pre = np.array(cv_pre_res)\n",
    "f_fit = np.poly1d(np.polyfit(x, y_pre, 12))\n",
    "yfit = f_fit(x)\n",
    "plt.plot(x, yfit, label='Precision')\n",
    "\n",
    "y_recall = np.array(cv_recall_res)\n",
    "f_fit = np.poly1d(np.polyfit(x, y_recall, 7))\n",
    "yfit = f_fit(x)\n",
    "plt.plot(x, yfit, label='Recall')\n",
    "\n",
    "y_f1 = np.array(cv_f1_res)\n",
    "f_fit = np.poly1d(np.polyfit(x, y_f1, 10))\n",
    "yfit = f_fit(x)\n",
    "plt.plot(x, yfit, label='F1')\n",
    "\n",
    "y_auc = np.array(cv_auc_res)\n",
    "f_fit = np.poly1d(np.polyfit(x, y_auc, 10))\n",
    "yfit = f_fit(x)\n",
    "plt.plot(x, yfit, label='AUC')\n",
    "\n",
    "plt.xlabel('Number of in transaction')\n",
    "plt.ylabel('Cross validation performance')\n",
    "plt.legend()\n",
    "plt.savefig('dynamic_performance.jpg')"
   ]
  },
  {
   "cell_type": "code",
   "execution_count": null,
   "metadata": {},
   "outputs": [],
   "source": []
  },
  {
   "cell_type": "code",
   "execution_count": null,
   "metadata": {},
   "outputs": [],
   "source": []
  },
  {
   "cell_type": "code",
   "execution_count": null,
   "metadata": {},
   "outputs": [],
   "source": [
    "train_label.sum()"
   ]
  },
  {
   "cell_type": "code",
   "execution_count": null,
   "metadata": {},
   "outputs": [],
   "source": [
    "feature_new = get_feature(train_data)"
   ]
  },
  {
   "cell_type": "code",
   "execution_count": null,
   "metadata": {},
   "outputs": [],
   "source": [
    "X_tmp, y_tmp = feature_matrix_to_train_matrix(feature, train_label)\n",
    "dtrain = lgb.Dataset(X_tmp, label = y_tmp)\n",
    "cv_tmp = lgb.cv(lgb_params, dtrain, num_boost_round=400,feval=lgb_evalMetric, verbose_eval = 10, nfold=5,metrics=('lgb_evalMetric'),\n",
    "           early_stopping_rounds= 100)"
   ]
  },
  {
   "cell_type": "code",
   "execution_count": null,
   "metadata": {},
   "outputs": [],
   "source": []
  },
  {
   "cell_type": "code",
   "execution_count": null,
   "metadata": {},
   "outputs": [],
   "source": [
    "y_tmp.sum()"
   ]
  },
  {
   "cell_type": "code",
   "execution_count": null,
   "metadata": {},
   "outputs": [],
   "source": []
  },
  {
   "cell_type": "markdown",
   "metadata": {},
   "source": [
    "### 與svm和dt對比"
   ]
  },
  {
   "cell_type": "code",
   "execution_count": null,
   "metadata": {},
   "outputs": [],
   "source": [
    "from sklearn.model_selection import train_test_split"
   ]
  },
  {
   "cell_type": "code",
   "execution_count": null,
   "metadata": {},
   "outputs": [],
   "source": [
    "x_tn, x_tt, y_tn, y_tt = train_test_split(X_train,y_train, test_size=0.25)"
   ]
  },
  {
   "cell_type": "code",
   "execution_count": null,
   "metadata": {},
   "outputs": [],
   "source": [
    "from sklearn import svm"
   ]
  },
  {
   "cell_type": "code",
   "execution_count": null,
   "metadata": {},
   "outputs": [],
   "source": [
    "from sklearn import tree\n",
    "from sklearn.metrics import roc_auc_score\n",
    "from sklearn.metrics import precision_score\n",
    "from sklearn.metrics import recall_score"
   ]
  },
  {
   "cell_type": "code",
   "execution_count": null,
   "metadata": {},
   "outputs": [],
   "source": [
    "clf = svm.OneClassSVM(nu=0.1, kernel=\"rbf\", gamma=0.1)\n",
    "x_tn.fillna(0, inplace=True)\n",
    "x_tt.fillna(0, inplace=True)\n",
    "clf.fit(x_tn, y_tn)\n",
    "svm_preds = clf.predict(x_tt)\n",
    "svm_auc_score = roc_auc_score(y_tt,svm_preds)\n",
    "svm_precision_score = precision_score(y_tt, svm_preds, average='macro')\n",
    "svm_recall_score = recall_score(y_tt, svm_preds, average='macro')"
   ]
  },
  {
   "cell_type": "code",
   "execution_count": null,
   "metadata": {},
   "outputs": [],
   "source": []
  },
  {
   "cell_type": "code",
   "execution_count": null,
   "metadata": {},
   "outputs": [],
   "source": [
    "clf = tree.DecisionTreeClassifier()\n",
    "x_tn.fillna(0, inplace=True)\n",
    "x_tt.fillna(0, inplace=True)\n",
    "clf.fit(x_tn, y_tn)\n",
    "dt_preds = clf.predict(x_tt)\n",
    "dt_auc_score = roc_auc_score(y_tt,dt_preds)\n",
    "dt_precision_score = precision_score(y_tt, dt_preds, average='macro')\n",
    "dt_recall_score = recall_score(y_tt, dt_preds, average='macro')"
   ]
  },
  {
   "cell_type": "code",
   "execution_count": null,
   "metadata": {},
   "outputs": [],
   "source": []
  },
  {
   "cell_type": "code",
   "execution_count": null,
   "metadata": {},
   "outputs": [],
   "source": [
    "#经过均衡\n",
    "print(dt_auc_score)\n",
    "print(dt_precision_score)\n",
    "print(dt_recall_score)"
   ]
  },
  {
   "cell_type": "code",
   "execution_count": null,
   "metadata": {},
   "outputs": [],
   "source": []
  },
  {
   "cell_type": "markdown",
   "metadata": {},
   "source": [
    "## 案例分析"
   ]
  },
  {
   "cell_type": "code",
   "execution_count": null,
   "metadata": {},
   "outputs": [],
   "source": [
    "sample_addr = '0x2a6d8021861f27ab992572d8689017b7a83c989d'"
   ]
  },
  {
   "cell_type": "code",
   "execution_count": null,
   "metadata": {},
   "outputs": [],
   "source": [
    "sample_addr_data = train_data[(train_data['from'] == sample_addr) | (train_data['to'] == sample_addr)]"
   ]
  },
  {
   "cell_type": "code",
   "execution_count": null,
   "metadata": {},
   "outputs": [],
   "source": [
    "sample_addr_data"
   ]
  },
  {
   "cell_type": "code",
   "execution_count": null,
   "metadata": {},
   "outputs": [],
   "source": [
    "#sample_addr_data"
   ]
  },
  {
   "cell_type": "code",
   "execution_count": null,
   "metadata": {},
   "outputs": [],
   "source": [
    "sample_dynamic_feature = pd.DataFrame()\n",
    "for i in range(len(sample_addr_data)):\n",
    "    part_sample_addr_data = sample_addr_data[:i]\n",
    "    tmp_fea = get_sample_feature(part_sample_addr_data)\n",
    "    target_fea = tmp_fea[tmp_fea['address'] == sample_addr]\n",
    "    sample_dynamic_feature = pd.concat([sample_dynamic_feature,target_fea])"
   ]
  },
  {
   "cell_type": "code",
   "execution_count": null,
   "metadata": {},
   "outputs": [],
   "source": [
    "sample_dynamic_feature.drop('address', axis = 1, inplace=True)"
   ]
  },
  {
   "cell_type": "code",
   "execution_count": null,
   "metadata": {},
   "outputs": [],
   "source": []
  },
  {
   "cell_type": "code",
   "execution_count": null,
   "metadata": {},
   "outputs": [],
   "source": [
    "without_sample_fea = feature[feature['address'] != sample_addr]\n",
    "X_tmp, y_tmp = feature_matrix_to_train_matrix(without_sample_fea, train_label)\n",
    "dtrain = lgb.Dataset(X_tmp, label = y_tmp)\n",
    "sample_lgb_model = lgb.train(lgb_params, dtrain, num_boost_round=400,feval=lgb_evalMetric, verbose_eval = 10,valid_sets=dtrain,\n",
    "       early_stopping_rounds= 100)"
   ]
  },
  {
   "cell_type": "code",
   "execution_count": null,
   "metadata": {},
   "outputs": [],
   "source": [
    "sample_dynamic_res = sample_lgb_model.predict(sample_dynamic_feature)"
   ]
  },
  {
   "cell_type": "code",
   "execution_count": null,
   "metadata": {},
   "outputs": [],
   "source": [
    "sample_dynamic_res"
   ]
  },
  {
   "cell_type": "code",
   "execution_count": null,
   "metadata": {
    "scrolled": true
   },
   "outputs": [],
   "source": [
    "dynamic_x = np.array(range(len(sample_dynamic_res)))\n",
    "dynamic_f_fit = np.poly1d(np.polyfit(dynamic_x, sample_dynamic_res,5))\n",
    "dynamic_yfit = dynamic_f_fit(dynamic_x)\n",
    "plt.plot(dynamic_x, dynamic_yfit, marker='o', markevery=[3,15])\n",
    "plt.axhline(y=0.52306926,ls='--', xmax=0.06, color='r')\n",
    "plt.axvline(x=3, ls='--',ymax=0.25, color='r')\n",
    "plt.annotate(\"(4, 0.523)\", xy=(4, 0.52), xytext=(4, 2), textcoords='offset points')\n",
    "plt.axhline(y=0.9078484 ,ls='--', xmax=0.15,color='r')\n",
    "plt.axvline(x=15, ls='--',ymax=0.77,color='r')\n",
    "plt.annotate(\"(16, 0.908)\", xy=(15, 0.908), xytext=(6, 2), textcoords='offset points')\n",
    "plt.xlabel('Number of transactions')\n",
    "plt.ylabel('P(phishing address)')\n",
    "plt.savefig('P_phishing.jpg')"
   ]
  },
  {
   "cell_type": "code",
   "execution_count": null,
   "metadata": {},
   "outputs": [],
   "source": []
  },
  {
   "cell_type": "code",
   "execution_count": null,
   "metadata": {},
   "outputs": [],
   "source": [
    "dynamic_yfit"
   ]
  },
  {
   "cell_type": "code",
   "execution_count": null,
   "metadata": {},
   "outputs": [],
   "source": []
  },
  {
   "cell_type": "code",
   "execution_count": null,
   "metadata": {},
   "outputs": [],
   "source": []
  },
  {
   "cell_type": "code",
   "execution_count": null,
   "metadata": {},
   "outputs": [],
   "source": [
    "def get_sample_trival_feature(train_data):\n",
    "    #feature between from and block:\n",
    "    from_block_feature = train_data.groupby(['from'])['blockNumber'].agg([np.ptp, 'std']).add_prefix('from_block_')\n",
    "    from_value_feature = train_data.groupby(['from'])['value'].agg(['sum', 'mean', 'std', 'max', 'min']).add_prefix('from_value_')\n",
    "    from_feature = pd.concat([from_block_feature, from_value_feature], axis = 1)\n",
    "    #from_feature = from_feature.merge(left_on='from', right=train_address, right_on='address', how='right')\n",
    "    to_block_feature = train_data.groupby(['to'])['blockNumber'].agg([np.ptp, 'std']).add_prefix('to_block_')\n",
    "    to_value_feature = train_data.groupby(['to'])['value'].agg(['sum', 'mean', 'std', 'max', 'min']).add_prefix('to_value_')\n",
    "    to_feature = pd.concat([to_block_feature, to_value_feature], axis = 1)\n",
    "    from_feature.reset_index(inplace=True)\n",
    "    to_feature.reset_index(inplace=True)\n",
    "    #to_feature = to_feature.merge(left_on='to', right=train_address, right_on='address', how='right')\n",
    "    trival_feature = pd.merge(left=from_feature, right=to_feature, left_on='from', right_on='to', how='right')\n",
    "    trival_feature['address'] = trival_feature['to']\n",
    "    trival_feature.drop(['from', 'to'], axis = 1, inplace=True)\n",
    "    return trival_feature\n",
    "def get_sample_feature(train_data):\n",
    "    trival_feature = get_sample_trival_feature(train_data)\n",
    "    from_to_degree_feature, to_from_degree_feature = get_network_feature(train_data)\n",
    "    feature = trival_feature.merge(right=from_to_degree_feature, left_on='address', right_on='from', how='left')\n",
    "    feature = feature.merge(right=to_from_degree_feature, left_on='address', right_on='to',how='left')\n",
    "    feature.drop(['from','to'], inplace=True, axis = 1)\n",
    "    return feature"
   ]
  },
  {
   "cell_type": "markdown",
   "metadata": {},
   "source": [
    "### phishing 金额对比"
   ]
  },
  {
   "cell_type": "code",
   "execution_count": null,
   "metadata": {},
   "outputs": [],
   "source": [
    "sample_addr_data.iloc[0]['value']"
   ]
  },
  {
   "cell_type": "code",
   "execution_count": null,
   "metadata": {},
   "outputs": [],
   "source": [
    "phishing_sum = [sample_addr_data.iloc[0]['value']]\n",
    "model_expected_sum = [sample_addr_data.iloc[0]['value']]\n",
    "for i in range(1, len(sample_addr_data) - 1):\n",
    "    phishing_sum.append(phishing_sum[-1] + sample_addr_data.iloc[i]['value'])\n",
    "    model_expected_sum.append(model_expected_sum[-1] + sample_addr_data.iloc[i]['value'] * (1 - sample_dynamic_res[i - 1]))"
   ]
  },
  {
   "cell_type": "code",
   "execution_count": null,
   "metadata": {},
   "outputs": [],
   "source": [
    "pd.Series(phishing_sum).plot(label='Loss without model warning')\n",
    "pd.Series(model_expected_sum).plot(label='Loss with model warning')\n",
    "plt.xlabel('Number of transactions')\n",
    "plt.ylabel('Loss(Eth)')\n",
    "plt.legend()\n",
    "plt.savefig('Loss_with_model.jpg')"
   ]
  },
  {
   "cell_type": "code",
   "execution_count": null,
   "metadata": {},
   "outputs": [],
   "source": [
    "1 - model_expected_sum[-1] / phishing_sum[-1]"
   ]
  },
  {
   "cell_type": "code",
   "execution_count": null,
   "metadata": {},
   "outputs": [],
   "source": []
  },
  {
   "cell_type": "code",
   "execution_count": null,
   "metadata": {},
   "outputs": [],
   "source": [
    "tmp_pre = 0.819627554383652\n",
    "\n",
    "tmp_recall = 0.8049612759757687\n",
    "(tmp_pre * tmp_recall * 2) / (tmp_pre + tmp_recall)"
   ]
  },
  {
   "cell_type": "code",
   "execution_count": null,
   "metadata": {},
   "outputs": [],
   "source": [
    "all_address_set = set(train_data['from']).union(set(train_data['from']))"
   ]
  },
  {
   "cell_type": "code",
   "execution_count": null,
   "metadata": {},
   "outputs": [],
   "source": [
    "len(all_address_set)"
   ]
  },
  {
   "cell_type": "code",
   "execution_count": null,
   "metadata": {},
   "outputs": [],
   "source": []
  },
  {
   "cell_type": "code",
   "execution_count": null,
   "metadata": {},
   "outputs": [],
   "source": [
    "pd.DataFrame(lgb_model.feature_name()).to_csv('feature_names.csv')"
   ]
  },
  {
   "cell_type": "code",
   "execution_count": null,
   "metadata": {},
   "outputs": [],
   "source": []
  },
  {
   "cell_type": "markdown",
   "metadata": {},
   "source": [
    "## 不同feature frac 的影响"
   ]
  },
  {
   "cell_type": "code",
   "execution_count": null,
   "metadata": {},
   "outputs": [],
   "source": [
    "\n",
    "feature_frac_precision = []\n",
    "feature_frac_recall = []\n",
    "feature_frac_auc = []\n",
    "for i in range(20):\n",
    "    X_train, y_train = feature_matrix_to_train_matrix(feature, train_label)\n",
    "    dtrain = lgb.Dataset(X_train, label = y_train)\n",
    "    feature_frac_precision_tmp = lgb.cv(lgb_params, dtrain, num_boost_round=400,feval=lgb_pre_evalMetric, verbose_eval = 10, nfold=2,metrics=('lgb_pre_evalMetric'),\n",
    "           early_stopping_rounds= 100)\n",
    "    feature_frac_recall_tmp = lgb.cv(lgb_params, dtrain, num_boost_round=400,feval=lgb_recall_evalMetric, verbose_eval = 10, nfold=2,metrics=('lgb_recall_evalMetric'),\n",
    "           early_stopping_rounds= 100)   \n",
    "    feature_frac_auc_tmp = lgb.cv(lgb_params, dtrain, num_boost_round=400,feval=lgb_auc_evalMetric, verbose_eval = 10, nfold=2,metrics=('lgb_auc_evalMetric'),\n",
    "           early_stopping_rounds= 100)      \n",
    "    feature_frac_precision.append(max(feature_frac_precision_tmp['res-mean']))\n",
    "    feature_frac_recall.append(max(feature_frac_recall_tmp['res-mean']))\n",
    "    feature_frac_auc.append(max(feature_frac_auc_tmp['res-mean']))"
   ]
  },
  {
   "cell_type": "code",
   "execution_count": null,
   "metadata": {},
   "outputs": [],
   "source": [
    "np.mean(feature_frac_precision)"
   ]
  },
  {
   "cell_type": "code",
   "execution_count": null,
   "metadata": {},
   "outputs": [],
   "source": [
    "np.mean(feature_frac_recall)"
   ]
  },
  {
   "cell_type": "code",
   "execution_count": null,
   "metadata": {},
   "outputs": [],
   "source": [
    "np.mean(feature_frac_auc)"
   ]
  },
  {
   "cell_type": "code",
   "execution_count": null,
   "metadata": {},
   "outputs": [],
   "source": []
  },
  {
   "cell_type": "code",
   "execution_count": null,
   "metadata": {},
   "outputs": [],
   "source": []
  }
 ],
 "metadata": {
  "kernelspec": {
   "display_name": "Python 3",
   "language": "python",
   "name": "python3"
  },
  "language_info": {
   "codemirror_mode": {
    "name": "ipython",
    "version": 3
   },
   "file_extension": ".py",
   "mimetype": "text/x-python",
   "name": "python",
   "nbconvert_exporter": "python",
   "pygments_lexer": "ipython3",
   "version": "3.8.3"
  },
  "varInspector": {
   "cols": {
    "lenName": 16,
    "lenType": 16,
    "lenVar": 40
   },
   "kernels_config": {
    "python": {
     "delete_cmd_postfix": "",
     "delete_cmd_prefix": "del ",
     "library": "var_list.py",
     "varRefreshCmd": "print(var_dic_list())"
    },
    "r": {
     "delete_cmd_postfix": ") ",
     "delete_cmd_prefix": "rm(",
     "library": "var_list.r",
     "varRefreshCmd": "cat(var_dic_list()) "
    }
   },
   "types_to_exclude": [
    "module",
    "function",
    "builtin_function_or_method",
    "instance",
    "_Feature"
   ],
   "window_display": false
  }
 },
 "nbformat": 4,
 "nbformat_minor": 2
}
