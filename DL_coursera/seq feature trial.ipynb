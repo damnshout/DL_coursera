{
 "cells": [
  {
   "cell_type": "code",
   "execution_count": 1,
   "metadata": {
    "ExecuteTime": {
     "end_time": "2020-11-24T13:15:23.837138Z",
     "start_time": "2020-11-24T13:15:19.627700Z"
    }
   },
   "outputs": [],
   "source": [
    "import pandas as pd\n",
    "import numpy as np"
   ]
  },
  {
   "cell_type": "code",
   "execution_count": 2,
   "metadata": {
    "ExecuteTime": {
     "end_time": "2020-11-24T13:16:49.327442Z",
     "start_time": "2020-11-24T13:15:58.264404Z"
    }
   },
   "outputs": [],
   "source": [
    "train_data = pd.read_csv('./data/train_data_ver2.0.csv')\n",
    "train_label = pd.read_csv('./data/train_label_ver2.0.csv')"
   ]
  },
  {
   "cell_type": "code",
   "execution_count": 3,
   "metadata": {
    "ExecuteTime": {
     "end_time": "2020-11-24T13:16:55.939342Z",
     "start_time": "2020-11-24T13:16:49.351441Z"
    }
   },
   "outputs": [],
   "source": [
    "#将数据集反过来重复一次，value取负数。以便于构建序列特征\n",
    "reverse_train_data = train_data.copy(deep=True)\n",
    "reverse_train_data.columns = ['blockNumber','to','from','value']\n",
    "reverse_train_data['value']*= -1\n",
    "double_dup_data = pd.concat([train_data, reverse_train_data],axis = 0)"
   ]
  },
  {
   "cell_type": "code",
   "execution_count": 4,
   "metadata": {
    "ExecuteTime": {
     "end_time": "2020-11-24T13:19:27.543283Z",
     "start_time": "2020-11-24T13:19:09.274834Z"
    }
   },
   "outputs": [],
   "source": [
    "#按时间排序\n",
    "double_dup_data.sort_index(inplace=True)"
   ]
  },
  {
   "cell_type": "code",
   "execution_count": 8,
   "metadata": {
    "ExecuteTime": {
     "end_time": "2020-11-24T13:30:05.478250Z",
     "start_time": "2020-11-24T13:29:08.715960Z"
    }
   },
   "outputs": [],
   "source": [
    "sample_data = train_data.sample(frac=0.005)\n",
    "seq_len = 10\n",
    "seq_diff0_to_val_feature = sample_data.groupby(['to'])['value'].apply(lambda x: pd.Series(list(x[-seq_len:]) + (seq_len - len(x[-seq_len:])) * [np.nan])).unstack().add_prefix('diff0_to_val_').reset_index()\n"
   ]
  },
  {
   "cell_type": "code",
   "execution_count": 10,
   "metadata": {
    "ExecuteTime": {
     "end_time": "2020-11-24T14:01:40.191117Z",
     "start_time": "2020-11-24T14:01:40.181121Z"
    }
   },
   "outputs": [
    {
     "data": {
      "text/html": [
       "<div>\n",
       "<style scoped>\n",
       "    .dataframe tbody tr th:only-of-type {\n",
       "        vertical-align: middle;\n",
       "    }\n",
       "\n",
       "    .dataframe tbody tr th {\n",
       "        vertical-align: top;\n",
       "    }\n",
       "\n",
       "    .dataframe thead th {\n",
       "        text-align: right;\n",
       "    }\n",
       "</style>\n",
       "<table border=\"1\" class=\"dataframe\">\n",
       "  <thead>\n",
       "    <tr style=\"text-align: right;\">\n",
       "      <th></th>\n",
       "      <th>blockNumber</th>\n",
       "      <th>from</th>\n",
       "      <th>to</th>\n",
       "      <th>value</th>\n",
       "    </tr>\n",
       "  </thead>\n",
       "  <tbody>\n",
       "    <tr>\n",
       "      <th>0</th>\n",
       "      <td>1917029</td>\n",
       "      <td>0xcf5cdd85813129271c907348325c013847674fc6</td>\n",
       "      <td>0x60aa80fe41b43c180870a137c7a87334e5c3cb5d</td>\n",
       "      <td>210000000000000000</td>\n",
       "    </tr>\n",
       "    <tr>\n",
       "      <th>1</th>\n",
       "      <td>1917031</td>\n",
       "      <td>0x63656b599cb67a18b5be74f7dcd269137a6efdcb</td>\n",
       "      <td>0x7180eb39a6264938fdb3effd7341c4727c382153</td>\n",
       "      <td>999580000000000000</td>\n",
       "    </tr>\n",
       "    <tr>\n",
       "      <th>2</th>\n",
       "      <td>1917031</td>\n",
       "      <td>0x63656b599cb67a18b5be74f7dcd269137a6efdcb</td>\n",
       "      <td>0x7180eb39a6264938fdb3effd7341c4727c382153</td>\n",
       "      <td>999580000000000000</td>\n",
       "    </tr>\n",
       "    <tr>\n",
       "      <th>3</th>\n",
       "      <td>1917032</td>\n",
       "      <td>0xea321e7e27877e4e623a74b1262f184f404a8319</td>\n",
       "      <td>0x1e639f11abdd00fca7779aab75c3c3ed10c0d1a0</td>\n",
       "      <td>890000000000000000</td>\n",
       "    </tr>\n",
       "    <tr>\n",
       "      <th>4</th>\n",
       "      <td>1917032</td>\n",
       "      <td>0x60aa80fe41b43c180870a137c7a87334e5c3cb5d</td>\n",
       "      <td>0xcf5cdd85813129271c907348325c013847674fc6</td>\n",
       "      <td>1</td>\n",
       "    </tr>\n",
       "    <tr>\n",
       "      <th>...</th>\n",
       "      <td>...</td>\n",
       "      <td>...</td>\n",
       "      <td>...</td>\n",
       "      <td>...</td>\n",
       "    </tr>\n",
       "    <tr>\n",
       "      <th>30956453</th>\n",
       "      <td>7006697</td>\n",
       "      <td>0xcdfaa6fd2461d7129a7fdc193c9d97504ff3b6f6</td>\n",
       "      <td>0x3b00a158410514fc4bbd40bf51f6fd0d140fb45d</td>\n",
       "      <td>180000000000000000</td>\n",
       "    </tr>\n",
       "    <tr>\n",
       "      <th>30956454</th>\n",
       "      <td>7006697</td>\n",
       "      <td>0x20e6f8babbfdf132d049814698ec2281ae4b3da3</td>\n",
       "      <td>0xebe68414ab9a7d9124b685c9bb6f70d553a01664</td>\n",
       "      <td>1789200000000000</td>\n",
       "    </tr>\n",
       "    <tr>\n",
       "      <th>30956455</th>\n",
       "      <td>7006699</td>\n",
       "      <td>0x29bc381c5a88d0fea8f60818725acceee9b981e7</td>\n",
       "      <td>0x968c6686b9d4f8f2aed5a6c5ea629f67cfc9ac2e</td>\n",
       "      <td>14000000000000000000</td>\n",
       "    </tr>\n",
       "    <tr>\n",
       "      <th>30956456</th>\n",
       "      <td>7006699</td>\n",
       "      <td>0xa2d3d545de4235044fff5116a4f8a043aaf13821</td>\n",
       "      <td>0x25bddd8c28d657f190d8e32cda1e29207718a7da</td>\n",
       "      <td>2910000000000000000</td>\n",
       "    </tr>\n",
       "    <tr>\n",
       "      <th>30956457</th>\n",
       "      <td>7006700</td>\n",
       "      <td>0x37eaf9a198795424a14949b688da76d17aabd45d</td>\n",
       "      <td>0x431aaece8483c4fb50cb5af3e717f82fd8a9903f</td>\n",
       "      <td>10000000000000000</td>\n",
       "    </tr>\n",
       "  </tbody>\n",
       "</table>\n",
       "<p>30956458 rows × 4 columns</p>\n",
       "</div>"
      ],
      "text/plain": [
       "          blockNumber                                        from  \\\n",
       "0             1917029  0xcf5cdd85813129271c907348325c013847674fc6   \n",
       "1             1917031  0x63656b599cb67a18b5be74f7dcd269137a6efdcb   \n",
       "2             1917031  0x63656b599cb67a18b5be74f7dcd269137a6efdcb   \n",
       "3             1917032  0xea321e7e27877e4e623a74b1262f184f404a8319   \n",
       "4             1917032  0x60aa80fe41b43c180870a137c7a87334e5c3cb5d   \n",
       "...               ...                                         ...   \n",
       "30956453      7006697  0xcdfaa6fd2461d7129a7fdc193c9d97504ff3b6f6   \n",
       "30956454      7006697  0x20e6f8babbfdf132d049814698ec2281ae4b3da3   \n",
       "30956455      7006699  0x29bc381c5a88d0fea8f60818725acceee9b981e7   \n",
       "30956456      7006699  0xa2d3d545de4235044fff5116a4f8a043aaf13821   \n",
       "30956457      7006700  0x37eaf9a198795424a14949b688da76d17aabd45d   \n",
       "\n",
       "                                                  to                 value  \n",
       "0         0x60aa80fe41b43c180870a137c7a87334e5c3cb5d    210000000000000000  \n",
       "1         0x7180eb39a6264938fdb3effd7341c4727c382153    999580000000000000  \n",
       "2         0x7180eb39a6264938fdb3effd7341c4727c382153    999580000000000000  \n",
       "3         0x1e639f11abdd00fca7779aab75c3c3ed10c0d1a0    890000000000000000  \n",
       "4         0xcf5cdd85813129271c907348325c013847674fc6                     1  \n",
       "...                                              ...                   ...  \n",
       "30956453  0x3b00a158410514fc4bbd40bf51f6fd0d140fb45d    180000000000000000  \n",
       "30956454  0xebe68414ab9a7d9124b685c9bb6f70d553a01664      1789200000000000  \n",
       "30956455  0x968c6686b9d4f8f2aed5a6c5ea629f67cfc9ac2e  14000000000000000000  \n",
       "30956456  0x25bddd8c28d657f190d8e32cda1e29207718a7da   2910000000000000000  \n",
       "30956457  0x431aaece8483c4fb50cb5af3e717f82fd8a9903f     10000000000000000  \n",
       "\n",
       "[30956458 rows x 4 columns]"
      ]
     },
     "execution_count": 10,
     "metadata": {},
     "output_type": "execute_result"
    }
   ],
   "source": [
    "train_data"
   ]
  },
  {
   "cell_type": "code",
   "execution_count": null,
   "metadata": {},
   "outputs": [],
   "source": [
    "seq_diff0_from_val_feature = train_data.groupby(['from'])['value'].apply(lambda x: pd.Series(list(x[-seq_len:]) + (seq_len - len(x[-seq_len:])) * [np.nan])).unstack().add_prefix('diff0_from_val').reset_index()\n",
    "seq_diff0_to_blocknum_feature = train_data.groupby(['to'])['blockNumber'].apply(lambda x: pd.Series(list(x[-seq_len:]) + (seq_len - len(x[-seq_len:])) * [np.nan])).unstack().add_prefix('diff0_to_blocknum_').reset_index()\n",
    "seq_diff0_from_blocknum_feature = train_data.groupby(['from'])['blockNumber'].apply(lambda x: pd.Series(list(x[-seq_len:]) + (seq_len - len(x[-seq_len:])) * [np.nan])).unstack().add_prefix('diff0_from_blocknum_').reset_index()\n"
   ]
  },
  {
   "cell_type": "code",
   "execution_count": null,
   "metadata": {},
   "outputs": [],
   "source": []
  },
  {
   "cell_type": "code",
   "execution_count": null,
   "metadata": {},
   "outputs": [],
   "source": []
  },
  {
   "cell_type": "code",
   "execution_count": null,
   "metadata": {},
   "outputs": [],
   "source": []
  },
  {
   "cell_type": "code",
   "execution_count": null,
   "metadata": {},
   "outputs": [],
   "source": []
  }
 ],
 "metadata": {
  "kernelspec": {
   "display_name": "Python 3",
   "language": "python",
   "name": "python3"
  },
  "language_info": {
   "codemirror_mode": {
    "name": "ipython",
    "version": 3
   },
   "file_extension": ".py",
   "mimetype": "text/x-python",
   "name": "python",
   "nbconvert_exporter": "python",
   "pygments_lexer": "ipython3",
   "version": "3.8.3"
  },
  "varInspector": {
   "cols": {
    "lenName": 16,
    "lenType": 16,
    "lenVar": 40
   },
   "kernels_config": {
    "python": {
     "delete_cmd_postfix": "",
     "delete_cmd_prefix": "del ",
     "library": "var_list.py",
     "varRefreshCmd": "print(var_dic_list())"
    },
    "r": {
     "delete_cmd_postfix": ") ",
     "delete_cmd_prefix": "rm(",
     "library": "var_list.r",
     "varRefreshCmd": "cat(var_dic_list()) "
    }
   },
   "position": {
    "height": "267.4px",
    "left": "1201px",
    "right": "20px",
    "top": "120px",
    "width": "315px"
   },
   "types_to_exclude": [
    "module",
    "function",
    "builtin_function_or_method",
    "instance",
    "_Feature"
   ],
   "window_display": false
  }
 },
 "nbformat": 4,
 "nbformat_minor": 4
}
